{
 "cells": [
  {
   "cell_type": "code",
   "execution_count": 446,
   "id": "d652aae0",
   "metadata": {},
   "outputs": [],
   "source": [
    "import sklearn\n",
    "import pandas as pd\n",
    "import numpy as np\n",
    "import seaborn as sns\n",
    "import requests\n",
    "import datetime as dt\n",
    "import plotly.express as px\n",
    "\n",
    "path = 'data_sher'\n"
   ]
  },
  {
   "cell_type": "code",
   "execution_count": 447,
   "id": "08364942",
   "metadata": {},
   "outputs": [],
   "source": [
    "\n",
    "income_5 = pd.read_excel(f'{path}/05.2022_Выручка.xlsx')\n",
    "pass_trafic_5 = pd.read_excel(f'{path}/05.2022_Пассажиропоток.xlsx')\n",
    "flight_shedule = pd.read_excel(f'{path}/Расписание рейсов 05-06.2022.xlsx') # Данные за 2 месяца\n",
    "manual_airports = pd.read_excel(f'{path}/Справочник_AIRPORTS.xlsx')\n",
    "manual_airlines = pd.read_excel(f'{path}/Справочник_AIRLINES.xlsx')\n",
    "weather = pd.read_csv(f'{path}/Moscow_2022-05-01_to_2022-05-31.csv')"
   ]
  },
  {
   "cell_type": "code",
   "execution_count": 448,
   "id": "d3fdcc0c",
   "metadata": {},
   "outputs": [],
   "source": [
    "income_5 = pd.read_excel(f'{path}/06.2022_Выручка.xlsx')\n",
    "pass_trafic_5 = pd.read_excel(f'{path}/06.2022_Пассажиропоток.xlsx')\n",
    "weather = pd.read_csv(f'{path}/Moscow 2022-05-28 to 2022-07-03.csv')"
   ]
  },
  {
   "cell_type": "code",
   "execution_count": 449,
   "id": "c6799e7b",
   "metadata": {},
   "outputs": [
    {
     "data": {
      "text/plain": [
       "Точка продаж 3     1401\n",
       "Точка продаж 28    1398\n",
       "Точка продаж 5     1397\n",
       "Точка продаж 8     1392\n",
       "Точка продаж 23    1388\n",
       "Точка продаж 12    1372\n",
       "Точка продаж 19    1361\n",
       "Точка продаж 4     1357\n",
       "Точка продаж 24    1354\n",
       "Точка продаж 10    1353\n",
       "Точка продаж 9     1353\n",
       "Точка продаж 25    1345\n",
       "Точка продаж 2     1334\n",
       "Точка продаж 22    1284\n",
       "Точка продаж 16    1272\n",
       "Точка продаж 13    1066\n",
       "Точка продаж 15     962\n",
       "Точка продаж 27     955\n",
       "Точка продаж 7      949\n",
       "Точка продаж 11     874\n",
       "Точка продаж 17     641\n",
       "Точка продаж 30     623\n",
       "Точка продаж 6      608\n",
       "Точка продаж 1      562\n",
       "Точка продаж 21     501\n",
       "Точка продаж 14     441\n",
       "Точка продаж 26     241\n",
       "Name: Точка продаж, dtype: int64"
      ]
     },
     "execution_count": 449,
     "metadata": {},
     "output_type": "execute_result"
    }
   ],
   "source": [
    "income_5['Точка продаж'].value_counts()"
   ]
  },
  {
   "cell_type": "code",
   "execution_count": 450,
   "id": "2793e055",
   "metadata": {},
   "outputs": [
    {
     "data": {
      "text/html": [
       "<div>\n",
       "<style scoped>\n",
       "    .dataframe tbody tr th:only-of-type {\n",
       "        vertical-align: middle;\n",
       "    }\n",
       "\n",
       "    .dataframe tbody tr th {\n",
       "        vertical-align: top;\n",
       "    }\n",
       "\n",
       "    .dataframe thead th {\n",
       "        text-align: right;\n",
       "    }\n",
       "</style>\n",
       "<table border=\"1\" class=\"dataframe\">\n",
       "  <thead>\n",
       "    <tr style=\"text-align: right;\">\n",
       "      <th></th>\n",
       "      <th>Дата</th>\n",
       "      <th>Дата с разбивкой по 30 минут</th>\n",
       "      <th>Прибыль на момент времени</th>\n",
       "      <th>Точка продаж</th>\n",
       "      <th>windgust</th>\n",
       "      <th>windspeed</th>\n",
       "      <th>visibility</th>\n",
       "    </tr>\n",
       "  </thead>\n",
       "  <tbody>\n",
       "    <tr>\n",
       "      <th>0</th>\n",
       "      <td>2022-05-31</td>\n",
       "      <td>2022-05-31 23:30:00</td>\n",
       "      <td>540</td>\n",
       "      <td>Точка продаж 15</td>\n",
       "      <td>5.4</td>\n",
       "      <td>6.6</td>\n",
       "      <td>6.2</td>\n",
       "    </tr>\n",
       "    <tr>\n",
       "      <th>1</th>\n",
       "      <td>2022-05-31</td>\n",
       "      <td>2022-05-31 23:30:00</td>\n",
       "      <td>438.5</td>\n",
       "      <td>Точка продаж 5</td>\n",
       "      <td>5.4</td>\n",
       "      <td>6.6</td>\n",
       "      <td>6.2</td>\n",
       "    </tr>\n",
       "    <tr>\n",
       "      <th>2</th>\n",
       "      <td>2022-06-01</td>\n",
       "      <td>2022-06-01 00:00:00</td>\n",
       "      <td>290</td>\n",
       "      <td>Точка продаж 14</td>\n",
       "      <td>5.8</td>\n",
       "      <td>5.1</td>\n",
       "      <td>4.5</td>\n",
       "    </tr>\n",
       "    <tr>\n",
       "      <th>3</th>\n",
       "      <td>2022-06-01</td>\n",
       "      <td>2022-06-01 00:00:00</td>\n",
       "      <td>3 125</td>\n",
       "      <td>Точка продаж 19</td>\n",
       "      <td>5.8</td>\n",
       "      <td>5.1</td>\n",
       "      <td>4.5</td>\n",
       "    </tr>\n",
       "    <tr>\n",
       "      <th>4</th>\n",
       "      <td>2022-06-01</td>\n",
       "      <td>2022-06-01 00:00:00</td>\n",
       "      <td>3 845</td>\n",
       "      <td>Точка продаж 16</td>\n",
       "      <td>5.8</td>\n",
       "      <td>5.1</td>\n",
       "      <td>4.5</td>\n",
       "    </tr>\n",
       "    <tr>\n",
       "      <th>...</th>\n",
       "      <td>...</td>\n",
       "      <td>...</td>\n",
       "      <td>...</td>\n",
       "      <td>...</td>\n",
       "      <td>...</td>\n",
       "      <td>...</td>\n",
       "      <td>...</td>\n",
       "    </tr>\n",
       "    <tr>\n",
       "      <th>28779</th>\n",
       "      <td>2022-07-01</td>\n",
       "      <td>2022-07-01 00:00:00</td>\n",
       "      <td>2 053</td>\n",
       "      <td>Точка продаж 8</td>\n",
       "      <td>8.6</td>\n",
       "      <td>11.4</td>\n",
       "      <td>10.0</td>\n",
       "    </tr>\n",
       "    <tr>\n",
       "      <th>28780</th>\n",
       "      <td>2022-07-01</td>\n",
       "      <td>2022-07-01 00:00:00</td>\n",
       "      <td>54</td>\n",
       "      <td>Точка продаж 22</td>\n",
       "      <td>8.6</td>\n",
       "      <td>11.4</td>\n",
       "      <td>10.0</td>\n",
       "    </tr>\n",
       "    <tr>\n",
       "      <th>28781</th>\n",
       "      <td>2022-07-01</td>\n",
       "      <td>2022-07-01 00:00:00</td>\n",
       "      <td>508</td>\n",
       "      <td>Точка продаж 12</td>\n",
       "      <td>8.6</td>\n",
       "      <td>11.4</td>\n",
       "      <td>10.0</td>\n",
       "    </tr>\n",
       "    <tr>\n",
       "      <th>28782</th>\n",
       "      <td>2022-07-01</td>\n",
       "      <td>2022-07-01 00:00:00</td>\n",
       "      <td>197.5</td>\n",
       "      <td>Точка продаж 24</td>\n",
       "      <td>8.6</td>\n",
       "      <td>11.4</td>\n",
       "      <td>10.0</td>\n",
       "    </tr>\n",
       "    <tr>\n",
       "      <th>28783</th>\n",
       "      <td>2022-07-01</td>\n",
       "      <td>2022-07-01 00:30:00</td>\n",
       "      <td>8 710</td>\n",
       "      <td>Точка продаж 11</td>\n",
       "      <td>8.6</td>\n",
       "      <td>11.4</td>\n",
       "      <td>10.0</td>\n",
       "    </tr>\n",
       "  </tbody>\n",
       "</table>\n",
       "<p>28784 rows × 7 columns</p>\n",
       "</div>"
      ],
      "text/plain": [
       "            Дата Дата с разбивкой по 30 минут Прибыль на момент времени  \\\n",
       "0     2022-05-31          2022-05-31 23:30:00                       540   \n",
       "1     2022-05-31          2022-05-31 23:30:00                     438.5   \n",
       "2     2022-06-01          2022-06-01 00:00:00                       290   \n",
       "3     2022-06-01          2022-06-01 00:00:00                     3 125   \n",
       "4     2022-06-01          2022-06-01 00:00:00                     3 845   \n",
       "...          ...                          ...                       ...   \n",
       "28779 2022-07-01          2022-07-01 00:00:00                     2 053   \n",
       "28780 2022-07-01          2022-07-01 00:00:00                        54   \n",
       "28781 2022-07-01          2022-07-01 00:00:00                       508   \n",
       "28782 2022-07-01          2022-07-01 00:00:00                     197.5   \n",
       "28783 2022-07-01          2022-07-01 00:30:00                     8 710   \n",
       "\n",
       "          Точка продаж  windgust  windspeed  visibility  \n",
       "0      Точка продаж 15       5.4        6.6         6.2  \n",
       "1       Точка продаж 5       5.4        6.6         6.2  \n",
       "2      Точка продаж 14       5.8        5.1         4.5  \n",
       "3      Точка продаж 19       5.8        5.1         4.5  \n",
       "4      Точка продаж 16       5.8        5.1         4.5  \n",
       "...                ...       ...        ...         ...  \n",
       "28779   Точка продаж 8       8.6       11.4        10.0  \n",
       "28780  Точка продаж 22       8.6       11.4        10.0  \n",
       "28781  Точка продаж 12       8.6       11.4        10.0  \n",
       "28782  Точка продаж 24       8.6       11.4        10.0  \n",
       "28783  Точка продаж 11       8.6       11.4        10.0  \n",
       "\n",
       "[28784 rows x 7 columns]"
      ]
     },
     "execution_count": 450,
     "metadata": {},
     "output_type": "execute_result"
    }
   ],
   "source": [
    "# Task 1 WEATHER\n",
    "# 1) Make connection to weather lib \n",
    "# 2) make new categorical column that will be represent weater state with OneHoteEncoding for each time period in Moscow\n",
    "# 3) Make 1-2 steps for 6 month \n",
    "\n",
    "weather = weather[['datetime', 'windgust', 'windspeed', 'visibility']]\n",
    "weather = weather.astype({'datetime':'datetime64'})\n",
    "weather['datetime'] = weather['datetime'].dt.strftime(\"%y-%m-%d %H\")\n",
    "df = income_5.copy() # Final dataset which will be contain all columns to make a predict\n",
    "df = df.astype({'Дата с разбивкой по 30 минут':'datetime64'})\n",
    "df['date_on_hour'] = df['Дата с разбивкой по 30 минут'].dt.strftime(\"%y-%m-%d %H\")\n",
    "df = df.merge(weather, left_on = 'date_on_hour', right_on = 'datetime') #27356\n",
    "df = df.drop(columns = ['date_on_hour','datetime'])\n",
    "df"
   ]
  },
  {
   "cell_type": "code",
   "execution_count": 451,
   "id": "587cda8d",
   "metadata": {},
   "outputs": [
    {
     "data": {
      "text/html": [
       "<div>\n",
       "<style scoped>\n",
       "    .dataframe tbody tr th:only-of-type {\n",
       "        vertical-align: middle;\n",
       "    }\n",
       "\n",
       "    .dataframe tbody tr th {\n",
       "        vertical-align: top;\n",
       "    }\n",
       "\n",
       "    .dataframe thead th {\n",
       "        text-align: right;\n",
       "    }\n",
       "</style>\n",
       "<table border=\"1\" class=\"dataframe\">\n",
       "  <thead>\n",
       "    <tr style=\"text-align: right;\">\n",
       "      <th></th>\n",
       "      <th>Дата</th>\n",
       "      <th>Дата с разбивкой по 30 минут</th>\n",
       "      <th>Прибыль на момент времени</th>\n",
       "      <th>Точка продаж</th>\n",
       "      <th>windgust</th>\n",
       "      <th>windspeed</th>\n",
       "      <th>visibility</th>\n",
       "      <th>evening</th>\n",
       "      <th>middle_day</th>\n",
       "      <th>night</th>\n",
       "    </tr>\n",
       "  </thead>\n",
       "  <tbody>\n",
       "    <tr>\n",
       "      <th>0</th>\n",
       "      <td>2022-05-31</td>\n",
       "      <td>2022-05-31 23:30:00</td>\n",
       "      <td>540</td>\n",
       "      <td>Точка продаж 15</td>\n",
       "      <td>5.4</td>\n",
       "      <td>6.6</td>\n",
       "      <td>6.2</td>\n",
       "      <td>1</td>\n",
       "      <td>0</td>\n",
       "      <td>0</td>\n",
       "    </tr>\n",
       "    <tr>\n",
       "      <th>1</th>\n",
       "      <td>2022-05-31</td>\n",
       "      <td>2022-05-31 23:30:00</td>\n",
       "      <td>438.5</td>\n",
       "      <td>Точка продаж 5</td>\n",
       "      <td>5.4</td>\n",
       "      <td>6.6</td>\n",
       "      <td>6.2</td>\n",
       "      <td>1</td>\n",
       "      <td>0</td>\n",
       "      <td>0</td>\n",
       "    </tr>\n",
       "    <tr>\n",
       "      <th>2</th>\n",
       "      <td>2022-06-01</td>\n",
       "      <td>2022-06-01 00:00:00</td>\n",
       "      <td>290</td>\n",
       "      <td>Точка продаж 14</td>\n",
       "      <td>5.8</td>\n",
       "      <td>5.1</td>\n",
       "      <td>4.5</td>\n",
       "      <td>0</td>\n",
       "      <td>0</td>\n",
       "      <td>1</td>\n",
       "    </tr>\n",
       "    <tr>\n",
       "      <th>3</th>\n",
       "      <td>2022-06-01</td>\n",
       "      <td>2022-06-01 00:00:00</td>\n",
       "      <td>3 125</td>\n",
       "      <td>Точка продаж 19</td>\n",
       "      <td>5.8</td>\n",
       "      <td>5.1</td>\n",
       "      <td>4.5</td>\n",
       "      <td>0</td>\n",
       "      <td>0</td>\n",
       "      <td>1</td>\n",
       "    </tr>\n",
       "    <tr>\n",
       "      <th>4</th>\n",
       "      <td>2022-06-01</td>\n",
       "      <td>2022-06-01 00:00:00</td>\n",
       "      <td>3 845</td>\n",
       "      <td>Точка продаж 16</td>\n",
       "      <td>5.8</td>\n",
       "      <td>5.1</td>\n",
       "      <td>4.5</td>\n",
       "      <td>0</td>\n",
       "      <td>0</td>\n",
       "      <td>1</td>\n",
       "    </tr>\n",
       "    <tr>\n",
       "      <th>...</th>\n",
       "      <td>...</td>\n",
       "      <td>...</td>\n",
       "      <td>...</td>\n",
       "      <td>...</td>\n",
       "      <td>...</td>\n",
       "      <td>...</td>\n",
       "      <td>...</td>\n",
       "      <td>...</td>\n",
       "      <td>...</td>\n",
       "      <td>...</td>\n",
       "    </tr>\n",
       "    <tr>\n",
       "      <th>28779</th>\n",
       "      <td>2022-07-01</td>\n",
       "      <td>2022-07-01 00:00:00</td>\n",
       "      <td>2 053</td>\n",
       "      <td>Точка продаж 8</td>\n",
       "      <td>8.6</td>\n",
       "      <td>11.4</td>\n",
       "      <td>10.0</td>\n",
       "      <td>0</td>\n",
       "      <td>0</td>\n",
       "      <td>1</td>\n",
       "    </tr>\n",
       "    <tr>\n",
       "      <th>28780</th>\n",
       "      <td>2022-07-01</td>\n",
       "      <td>2022-07-01 00:00:00</td>\n",
       "      <td>54</td>\n",
       "      <td>Точка продаж 22</td>\n",
       "      <td>8.6</td>\n",
       "      <td>11.4</td>\n",
       "      <td>10.0</td>\n",
       "      <td>0</td>\n",
       "      <td>0</td>\n",
       "      <td>1</td>\n",
       "    </tr>\n",
       "    <tr>\n",
       "      <th>28781</th>\n",
       "      <td>2022-07-01</td>\n",
       "      <td>2022-07-01 00:00:00</td>\n",
       "      <td>508</td>\n",
       "      <td>Точка продаж 12</td>\n",
       "      <td>8.6</td>\n",
       "      <td>11.4</td>\n",
       "      <td>10.0</td>\n",
       "      <td>0</td>\n",
       "      <td>0</td>\n",
       "      <td>1</td>\n",
       "    </tr>\n",
       "    <tr>\n",
       "      <th>28782</th>\n",
       "      <td>2022-07-01</td>\n",
       "      <td>2022-07-01 00:00:00</td>\n",
       "      <td>197.5</td>\n",
       "      <td>Точка продаж 24</td>\n",
       "      <td>8.6</td>\n",
       "      <td>11.4</td>\n",
       "      <td>10.0</td>\n",
       "      <td>0</td>\n",
       "      <td>0</td>\n",
       "      <td>1</td>\n",
       "    </tr>\n",
       "    <tr>\n",
       "      <th>28783</th>\n",
       "      <td>2022-07-01</td>\n",
       "      <td>2022-07-01 00:30:00</td>\n",
       "      <td>8 710</td>\n",
       "      <td>Точка продаж 11</td>\n",
       "      <td>8.6</td>\n",
       "      <td>11.4</td>\n",
       "      <td>10.0</td>\n",
       "      <td>0</td>\n",
       "      <td>0</td>\n",
       "      <td>1</td>\n",
       "    </tr>\n",
       "  </tbody>\n",
       "</table>\n",
       "<p>28784 rows × 10 columns</p>\n",
       "</div>"
      ],
      "text/plain": [
       "            Дата Дата с разбивкой по 30 минут Прибыль на момент времени  \\\n",
       "0     2022-05-31          2022-05-31 23:30:00                       540   \n",
       "1     2022-05-31          2022-05-31 23:30:00                     438.5   \n",
       "2     2022-06-01          2022-06-01 00:00:00                       290   \n",
       "3     2022-06-01          2022-06-01 00:00:00                     3 125   \n",
       "4     2022-06-01          2022-06-01 00:00:00                     3 845   \n",
       "...          ...                          ...                       ...   \n",
       "28779 2022-07-01          2022-07-01 00:00:00                     2 053   \n",
       "28780 2022-07-01          2022-07-01 00:00:00                        54   \n",
       "28781 2022-07-01          2022-07-01 00:00:00                       508   \n",
       "28782 2022-07-01          2022-07-01 00:00:00                     197.5   \n",
       "28783 2022-07-01          2022-07-01 00:30:00                     8 710   \n",
       "\n",
       "          Точка продаж  windgust  windspeed  visibility  evening  middle_day  \\\n",
       "0      Точка продаж 15       5.4        6.6         6.2        1           0   \n",
       "1       Точка продаж 5       5.4        6.6         6.2        1           0   \n",
       "2      Точка продаж 14       5.8        5.1         4.5        0           0   \n",
       "3      Точка продаж 19       5.8        5.1         4.5        0           0   \n",
       "4      Точка продаж 16       5.8        5.1         4.5        0           0   \n",
       "...                ...       ...        ...         ...      ...         ...   \n",
       "28779   Точка продаж 8       8.6       11.4        10.0        0           0   \n",
       "28780  Точка продаж 22       8.6       11.4        10.0        0           0   \n",
       "28781  Точка продаж 12       8.6       11.4        10.0        0           0   \n",
       "28782  Точка продаж 24       8.6       11.4        10.0        0           0   \n",
       "28783  Точка продаж 11       8.6       11.4        10.0        0           0   \n",
       "\n",
       "       night  \n",
       "0          0  \n",
       "1          0  \n",
       "2          1  \n",
       "3          1  \n",
       "4          1  \n",
       "...      ...  \n",
       "28779      1  \n",
       "28780      1  \n",
       "28781      1  \n",
       "28782      1  \n",
       "28783      1  \n",
       "\n",
       "[28784 rows x 10 columns]"
      ]
     },
     "execution_count": 451,
     "metadata": {},
     "output_type": "execute_result"
    }
   ],
   "source": [
    "# Task 2, period of day: morning [6- 12], middle [13-18], evening [19-00], night[00 - 05]\n",
    "def make_periods(x):\n",
    "    if 13 <= x <= 19:\n",
    "        return 'middle_day'\n",
    "    if 19 <= x <= 23:\n",
    "        return 'evening'\n",
    "    return 'night'\n",
    "df['day_period'] = df['Дата с разбивкой по 30 минут'].dt.hour\n",
    "df['day_period'] = df['day_period'].apply(lambda x: make_periods(x))\n",
    "df = df.merge(pd.get_dummies(df['day_period']), left_index=True, right_index=True).drop(columns = ['day_period'])\n",
    "df"
   ]
  },
  {
   "cell_type": "code",
   "execution_count": 452,
   "id": "11ccf60b",
   "metadata": {},
   "outputs": [
    {
     "data": {
      "text/html": [
       "<div>\n",
       "<style scoped>\n",
       "    .dataframe tbody tr th:only-of-type {\n",
       "        vertical-align: middle;\n",
       "    }\n",
       "\n",
       "    .dataframe tbody tr th {\n",
       "        vertical-align: top;\n",
       "    }\n",
       "\n",
       "    .dataframe thead th {\n",
       "        text-align: right;\n",
       "    }\n",
       "</style>\n",
       "<table border=\"1\" class=\"dataframe\">\n",
       "  <thead>\n",
       "    <tr style=\"text-align: right;\">\n",
       "      <th></th>\n",
       "      <th>Дата</th>\n",
       "      <th>Дата с разбивкой по 30 минут</th>\n",
       "      <th>Прибыль на момент времени</th>\n",
       "      <th>Точка продаж</th>\n",
       "      <th>windgust</th>\n",
       "      <th>windspeed</th>\n",
       "      <th>visibility</th>\n",
       "      <th>evening</th>\n",
       "      <th>middle_day</th>\n",
       "      <th>night</th>\n",
       "      <th>flight_count</th>\n",
       "    </tr>\n",
       "  </thead>\n",
       "  <tbody>\n",
       "    <tr>\n",
       "      <th>0</th>\n",
       "      <td>2022-05-31</td>\n",
       "      <td>2022-05-31 23:30:00</td>\n",
       "      <td>540</td>\n",
       "      <td>Точка продаж 15</td>\n",
       "      <td>5.4</td>\n",
       "      <td>6.6</td>\n",
       "      <td>6.2</td>\n",
       "      <td>1</td>\n",
       "      <td>0</td>\n",
       "      <td>0</td>\n",
       "      <td>41</td>\n",
       "    </tr>\n",
       "    <tr>\n",
       "      <th>1</th>\n",
       "      <td>2022-05-31</td>\n",
       "      <td>2022-05-31 23:30:00</td>\n",
       "      <td>438.5</td>\n",
       "      <td>Точка продаж 5</td>\n",
       "      <td>5.4</td>\n",
       "      <td>6.6</td>\n",
       "      <td>6.2</td>\n",
       "      <td>1</td>\n",
       "      <td>0</td>\n",
       "      <td>0</td>\n",
       "      <td>41</td>\n",
       "    </tr>\n",
       "    <tr>\n",
       "      <th>2</th>\n",
       "      <td>2022-06-01</td>\n",
       "      <td>2022-06-01 00:00:00</td>\n",
       "      <td>290</td>\n",
       "      <td>Точка продаж 14</td>\n",
       "      <td>5.8</td>\n",
       "      <td>5.1</td>\n",
       "      <td>4.5</td>\n",
       "      <td>0</td>\n",
       "      <td>0</td>\n",
       "      <td>1</td>\n",
       "      <td>0</td>\n",
       "    </tr>\n",
       "    <tr>\n",
       "      <th>3</th>\n",
       "      <td>2022-06-01</td>\n",
       "      <td>2022-06-01 00:00:00</td>\n",
       "      <td>3 125</td>\n",
       "      <td>Точка продаж 19</td>\n",
       "      <td>5.8</td>\n",
       "      <td>5.1</td>\n",
       "      <td>4.5</td>\n",
       "      <td>0</td>\n",
       "      <td>0</td>\n",
       "      <td>1</td>\n",
       "      <td>0</td>\n",
       "    </tr>\n",
       "    <tr>\n",
       "      <th>4</th>\n",
       "      <td>2022-06-01</td>\n",
       "      <td>2022-06-01 00:00:00</td>\n",
       "      <td>3 845</td>\n",
       "      <td>Точка продаж 16</td>\n",
       "      <td>5.8</td>\n",
       "      <td>5.1</td>\n",
       "      <td>4.5</td>\n",
       "      <td>0</td>\n",
       "      <td>0</td>\n",
       "      <td>1</td>\n",
       "      <td>0</td>\n",
       "    </tr>\n",
       "    <tr>\n",
       "      <th>...</th>\n",
       "      <td>...</td>\n",
       "      <td>...</td>\n",
       "      <td>...</td>\n",
       "      <td>...</td>\n",
       "      <td>...</td>\n",
       "      <td>...</td>\n",
       "      <td>...</td>\n",
       "      <td>...</td>\n",
       "      <td>...</td>\n",
       "      <td>...</td>\n",
       "      <td>...</td>\n",
       "    </tr>\n",
       "    <tr>\n",
       "      <th>28779</th>\n",
       "      <td>2022-07-01</td>\n",
       "      <td>2022-07-01 00:00:00</td>\n",
       "      <td>2 053</td>\n",
       "      <td>Точка продаж 8</td>\n",
       "      <td>8.6</td>\n",
       "      <td>11.4</td>\n",
       "      <td>10.0</td>\n",
       "      <td>0</td>\n",
       "      <td>0</td>\n",
       "      <td>1</td>\n",
       "      <td>0</td>\n",
       "    </tr>\n",
       "    <tr>\n",
       "      <th>28780</th>\n",
       "      <td>2022-07-01</td>\n",
       "      <td>2022-07-01 00:00:00</td>\n",
       "      <td>54</td>\n",
       "      <td>Точка продаж 22</td>\n",
       "      <td>8.6</td>\n",
       "      <td>11.4</td>\n",
       "      <td>10.0</td>\n",
       "      <td>0</td>\n",
       "      <td>0</td>\n",
       "      <td>1</td>\n",
       "      <td>0</td>\n",
       "    </tr>\n",
       "    <tr>\n",
       "      <th>28781</th>\n",
       "      <td>2022-07-01</td>\n",
       "      <td>2022-07-01 00:00:00</td>\n",
       "      <td>508</td>\n",
       "      <td>Точка продаж 12</td>\n",
       "      <td>8.6</td>\n",
       "      <td>11.4</td>\n",
       "      <td>10.0</td>\n",
       "      <td>0</td>\n",
       "      <td>0</td>\n",
       "      <td>1</td>\n",
       "      <td>0</td>\n",
       "    </tr>\n",
       "    <tr>\n",
       "      <th>28782</th>\n",
       "      <td>2022-07-01</td>\n",
       "      <td>2022-07-01 00:00:00</td>\n",
       "      <td>197.5</td>\n",
       "      <td>Точка продаж 24</td>\n",
       "      <td>8.6</td>\n",
       "      <td>11.4</td>\n",
       "      <td>10.0</td>\n",
       "      <td>0</td>\n",
       "      <td>0</td>\n",
       "      <td>1</td>\n",
       "      <td>0</td>\n",
       "    </tr>\n",
       "    <tr>\n",
       "      <th>28783</th>\n",
       "      <td>2022-07-01</td>\n",
       "      <td>2022-07-01 00:30:00</td>\n",
       "      <td>8 710</td>\n",
       "      <td>Точка продаж 11</td>\n",
       "      <td>8.6</td>\n",
       "      <td>11.4</td>\n",
       "      <td>10.0</td>\n",
       "      <td>0</td>\n",
       "      <td>0</td>\n",
       "      <td>1</td>\n",
       "      <td>0</td>\n",
       "    </tr>\n",
       "  </tbody>\n",
       "</table>\n",
       "<p>28784 rows × 11 columns</p>\n",
       "</div>"
      ],
      "text/plain": [
       "            Дата Дата с разбивкой по 30 минут Прибыль на момент времени  \\\n",
       "0     2022-05-31          2022-05-31 23:30:00                       540   \n",
       "1     2022-05-31          2022-05-31 23:30:00                     438.5   \n",
       "2     2022-06-01          2022-06-01 00:00:00                       290   \n",
       "3     2022-06-01          2022-06-01 00:00:00                     3 125   \n",
       "4     2022-06-01          2022-06-01 00:00:00                     3 845   \n",
       "...          ...                          ...                       ...   \n",
       "28779 2022-07-01          2022-07-01 00:00:00                     2 053   \n",
       "28780 2022-07-01          2022-07-01 00:00:00                        54   \n",
       "28781 2022-07-01          2022-07-01 00:00:00                       508   \n",
       "28782 2022-07-01          2022-07-01 00:00:00                     197.5   \n",
       "28783 2022-07-01          2022-07-01 00:30:00                     8 710   \n",
       "\n",
       "          Точка продаж  windgust  windspeed  visibility  evening  middle_day  \\\n",
       "0      Точка продаж 15       5.4        6.6         6.2        1           0   \n",
       "1       Точка продаж 5       5.4        6.6         6.2        1           0   \n",
       "2      Точка продаж 14       5.8        5.1         4.5        0           0   \n",
       "3      Точка продаж 19       5.8        5.1         4.5        0           0   \n",
       "4      Точка продаж 16       5.8        5.1         4.5        0           0   \n",
       "...                ...       ...        ...         ...      ...         ...   \n",
       "28779   Точка продаж 8       8.6       11.4        10.0        0           0   \n",
       "28780  Точка продаж 22       8.6       11.4        10.0        0           0   \n",
       "28781  Точка продаж 12       8.6       11.4        10.0        0           0   \n",
       "28782  Точка продаж 24       8.6       11.4        10.0        0           0   \n",
       "28783  Точка продаж 11       8.6       11.4        10.0        0           0   \n",
       "\n",
       "       night  flight_count  \n",
       "0          0            41  \n",
       "1          0            41  \n",
       "2          1             0  \n",
       "3          1             0  \n",
       "4          1             0  \n",
       "...      ...           ...  \n",
       "28779      1             0  \n",
       "28780      1             0  \n",
       "28781      1             0  \n",
       "28782      1             0  \n",
       "28783      1             0  \n",
       "\n",
       "[28784 rows x 11 columns]"
      ]
     },
     "execution_count": 452,
     "metadata": {},
     "output_type": "execute_result"
    }
   ],
   "source": [
    "# Task 3, determine number of flights\n",
    "# Create a column ['flight_count'], that will be contain number of flights. Flight will be count, if time before flight in interbal [4 hours - 30 min]\n",
    "flight_shedule_5 = flight_shedule[flight_shedule['FLIGHT_DATE'].dt.month == 5]\n",
    "def flight_count(x, left_corn = 4 * 60, right_corn = 30):\n",
    "    l_cor = x - dt.timedelta(minutes = left_corn)\n",
    "    r_cor = x - dt.timedelta(minutes = right_corn)\n",
    "    return flight_shedule_5[(flight_shedule_5.OUT_BEST_TIME.dt.day == x.day) & \\\n",
    "                     (flight_shedule_5.OUT_BEST_TIME >= l_cor) &\\\n",
    "                    (flight_shedule_5.OUT_BEST_TIME <= r_cor)].shape[0]\n",
    "\n",
    "flight_shedule_5 = flight_shedule[flight_shedule['FLIGHT_DATE'].dt.month == 5]\n",
    "min_data = min(df['Дата с разбивкой по 30 минут'])\n",
    "max_data = max(df['Дата с разбивкой по 30 минут'])\n",
    "df_times = pd.DataFrame(pd.date_range(start = min_data,end= max_data, freq = '30min'))\n",
    "df_times['flight_count'] = df_times[0].apply(lambda x: flight_count(x))\n",
    "df = df.merge(df_times, left_on = 'Дата с разбивкой по 30 минут', right_on = 0).drop(columns = [0])\n",
    "df"
   ]
  },
  {
   "cell_type": "code",
   "execution_count": 453,
   "id": "e5aa6cc6",
   "metadata": {},
   "outputs": [],
   "source": [
    "# Correct income to float format\n",
    "df['Прибыль на момент времени'] = df['Прибыль на момент времени'].str.replace('\\s','',regex = True).fillna(df['Прибыль на момент времени'])\n",
    "df['Прибыль на момент времени'] = df['Прибыль на момент времени'].str.replace(',','.',regex = True).fillna(df['Прибыль на момент времени']).astype('float64')"
   ]
  },
  {
   "cell_type": "code",
   "execution_count": 454,
   "id": "335b1b5c",
   "metadata": {},
   "outputs": [
    {
     "data": {
      "text/html": [
       "<div>\n",
       "<style scoped>\n",
       "    .dataframe tbody tr th:only-of-type {\n",
       "        vertical-align: middle;\n",
       "    }\n",
       "\n",
       "    .dataframe tbody tr th {\n",
       "        vertical-align: top;\n",
       "    }\n",
       "\n",
       "    .dataframe thead th {\n",
       "        text-align: right;\n",
       "    }\n",
       "</style>\n",
       "<table border=\"1\" class=\"dataframe\">\n",
       "  <thead>\n",
       "    <tr style=\"text-align: right;\">\n",
       "      <th></th>\n",
       "      <th>Дата</th>\n",
       "      <th>Дата с разбивкой по 30 минут</th>\n",
       "      <th>Прибыль на момент времени</th>\n",
       "      <th>Точка продаж</th>\n",
       "      <th>windgust</th>\n",
       "      <th>windspeed</th>\n",
       "      <th>visibility</th>\n",
       "      <th>evening</th>\n",
       "      <th>middle_day</th>\n",
       "      <th>night</th>\n",
       "      <th>flight_count</th>\n",
       "    </tr>\n",
       "  </thead>\n",
       "  <tbody>\n",
       "    <tr>\n",
       "      <th>0</th>\n",
       "      <td>2022-05-31</td>\n",
       "      <td>2022-05-31 23:30:00</td>\n",
       "      <td>540.0</td>\n",
       "      <td>15</td>\n",
       "      <td>5.4</td>\n",
       "      <td>6.6</td>\n",
       "      <td>6.2</td>\n",
       "      <td>1</td>\n",
       "      <td>0</td>\n",
       "      <td>0</td>\n",
       "      <td>41</td>\n",
       "    </tr>\n",
       "    <tr>\n",
       "      <th>1</th>\n",
       "      <td>2022-05-31</td>\n",
       "      <td>2022-05-31 23:30:00</td>\n",
       "      <td>438.5</td>\n",
       "      <td>5</td>\n",
       "      <td>5.4</td>\n",
       "      <td>6.6</td>\n",
       "      <td>6.2</td>\n",
       "      <td>1</td>\n",
       "      <td>0</td>\n",
       "      <td>0</td>\n",
       "      <td>41</td>\n",
       "    </tr>\n",
       "    <tr>\n",
       "      <th>2</th>\n",
       "      <td>2022-06-01</td>\n",
       "      <td>2022-06-01 00:00:00</td>\n",
       "      <td>290.0</td>\n",
       "      <td>14</td>\n",
       "      <td>5.8</td>\n",
       "      <td>5.1</td>\n",
       "      <td>4.5</td>\n",
       "      <td>0</td>\n",
       "      <td>0</td>\n",
       "      <td>1</td>\n",
       "      <td>0</td>\n",
       "    </tr>\n",
       "    <tr>\n",
       "      <th>3</th>\n",
       "      <td>2022-06-01</td>\n",
       "      <td>2022-06-01 00:00:00</td>\n",
       "      <td>3125.0</td>\n",
       "      <td>19</td>\n",
       "      <td>5.8</td>\n",
       "      <td>5.1</td>\n",
       "      <td>4.5</td>\n",
       "      <td>0</td>\n",
       "      <td>0</td>\n",
       "      <td>1</td>\n",
       "      <td>0</td>\n",
       "    </tr>\n",
       "    <tr>\n",
       "      <th>4</th>\n",
       "      <td>2022-06-01</td>\n",
       "      <td>2022-06-01 00:00:00</td>\n",
       "      <td>3845.0</td>\n",
       "      <td>16</td>\n",
       "      <td>5.8</td>\n",
       "      <td>5.1</td>\n",
       "      <td>4.5</td>\n",
       "      <td>0</td>\n",
       "      <td>0</td>\n",
       "      <td>1</td>\n",
       "      <td>0</td>\n",
       "    </tr>\n",
       "    <tr>\n",
       "      <th>...</th>\n",
       "      <td>...</td>\n",
       "      <td>...</td>\n",
       "      <td>...</td>\n",
       "      <td>...</td>\n",
       "      <td>...</td>\n",
       "      <td>...</td>\n",
       "      <td>...</td>\n",
       "      <td>...</td>\n",
       "      <td>...</td>\n",
       "      <td>...</td>\n",
       "      <td>...</td>\n",
       "    </tr>\n",
       "    <tr>\n",
       "      <th>28779</th>\n",
       "      <td>2022-07-01</td>\n",
       "      <td>2022-07-01 00:00:00</td>\n",
       "      <td>2053.0</td>\n",
       "      <td>8</td>\n",
       "      <td>8.6</td>\n",
       "      <td>11.4</td>\n",
       "      <td>10.0</td>\n",
       "      <td>0</td>\n",
       "      <td>0</td>\n",
       "      <td>1</td>\n",
       "      <td>0</td>\n",
       "    </tr>\n",
       "    <tr>\n",
       "      <th>28780</th>\n",
       "      <td>2022-07-01</td>\n",
       "      <td>2022-07-01 00:00:00</td>\n",
       "      <td>54.0</td>\n",
       "      <td>22</td>\n",
       "      <td>8.6</td>\n",
       "      <td>11.4</td>\n",
       "      <td>10.0</td>\n",
       "      <td>0</td>\n",
       "      <td>0</td>\n",
       "      <td>1</td>\n",
       "      <td>0</td>\n",
       "    </tr>\n",
       "    <tr>\n",
       "      <th>28781</th>\n",
       "      <td>2022-07-01</td>\n",
       "      <td>2022-07-01 00:00:00</td>\n",
       "      <td>508.0</td>\n",
       "      <td>12</td>\n",
       "      <td>8.6</td>\n",
       "      <td>11.4</td>\n",
       "      <td>10.0</td>\n",
       "      <td>0</td>\n",
       "      <td>0</td>\n",
       "      <td>1</td>\n",
       "      <td>0</td>\n",
       "    </tr>\n",
       "    <tr>\n",
       "      <th>28782</th>\n",
       "      <td>2022-07-01</td>\n",
       "      <td>2022-07-01 00:00:00</td>\n",
       "      <td>197.5</td>\n",
       "      <td>24</td>\n",
       "      <td>8.6</td>\n",
       "      <td>11.4</td>\n",
       "      <td>10.0</td>\n",
       "      <td>0</td>\n",
       "      <td>0</td>\n",
       "      <td>1</td>\n",
       "      <td>0</td>\n",
       "    </tr>\n",
       "    <tr>\n",
       "      <th>28783</th>\n",
       "      <td>2022-07-01</td>\n",
       "      <td>2022-07-01 00:30:00</td>\n",
       "      <td>8710.0</td>\n",
       "      <td>11</td>\n",
       "      <td>8.6</td>\n",
       "      <td>11.4</td>\n",
       "      <td>10.0</td>\n",
       "      <td>0</td>\n",
       "      <td>0</td>\n",
       "      <td>1</td>\n",
       "      <td>0</td>\n",
       "    </tr>\n",
       "  </tbody>\n",
       "</table>\n",
       "<p>28784 rows × 11 columns</p>\n",
       "</div>"
      ],
      "text/plain": [
       "            Дата Дата с разбивкой по 30 минут  Прибыль на момент времени  \\\n",
       "0     2022-05-31          2022-05-31 23:30:00                      540.0   \n",
       "1     2022-05-31          2022-05-31 23:30:00                      438.5   \n",
       "2     2022-06-01          2022-06-01 00:00:00                      290.0   \n",
       "3     2022-06-01          2022-06-01 00:00:00                     3125.0   \n",
       "4     2022-06-01          2022-06-01 00:00:00                     3845.0   \n",
       "...          ...                          ...                        ...   \n",
       "28779 2022-07-01          2022-07-01 00:00:00                     2053.0   \n",
       "28780 2022-07-01          2022-07-01 00:00:00                       54.0   \n",
       "28781 2022-07-01          2022-07-01 00:00:00                      508.0   \n",
       "28782 2022-07-01          2022-07-01 00:00:00                      197.5   \n",
       "28783 2022-07-01          2022-07-01 00:30:00                     8710.0   \n",
       "\n",
       "       Точка продаж  windgust  windspeed  visibility  evening  middle_day  \\\n",
       "0                15       5.4        6.6         6.2        1           0   \n",
       "1                 5       5.4        6.6         6.2        1           0   \n",
       "2                14       5.8        5.1         4.5        0           0   \n",
       "3                19       5.8        5.1         4.5        0           0   \n",
       "4                16       5.8        5.1         4.5        0           0   \n",
       "...             ...       ...        ...         ...      ...         ...   \n",
       "28779             8       8.6       11.4        10.0        0           0   \n",
       "28780            22       8.6       11.4        10.0        0           0   \n",
       "28781            12       8.6       11.4        10.0        0           0   \n",
       "28782            24       8.6       11.4        10.0        0           0   \n",
       "28783            11       8.6       11.4        10.0        0           0   \n",
       "\n",
       "       night  flight_count  \n",
       "0          0            41  \n",
       "1          0            41  \n",
       "2          1             0  \n",
       "3          1             0  \n",
       "4          1             0  \n",
       "...      ...           ...  \n",
       "28779      1             0  \n",
       "28780      1             0  \n",
       "28781      1             0  \n",
       "28782      1             0  \n",
       "28783      1             0  \n",
       "\n",
       "[28784 rows x 11 columns]"
      ]
     },
     "execution_count": 454,
     "metadata": {},
     "output_type": "execute_result"
    }
   ],
   "source": [
    "# Correct sale spot columns name\n",
    "df['Точка продаж'] = df['Точка продаж'].str.replace('Точка продаж', '').astype('int32')\n",
    "df"
   ]
  },
  {
   "cell_type": "code",
   "execution_count": 455,
   "id": "80affe01",
   "metadata": {},
   "outputs": [
    {
     "data": {
      "image/png": "[encoded data removed]",
      "text/plain": [
       "<Figure size 432x288 with 1 Axes>"
      ]
     },
     "metadata": {
      "needs_background": "light"
     },
     "output_type": "display_data"
    }
   ],
   "source": [
    "# Can see,that income increase really much after 28 flights\n",
    "df_12 = df[['flight_count', 'Прибыль на момент времени']]\n",
    "sns.lineplot(data = df_12, x ='flight_count', y = \"Прибыль на момент времени\")\n",
    "df['flight_count'] = df['flight_count'].apply(lambda x: 1 if x >= 28 else 0) # Transform quantitive variable to categorical"
   ]
  },
  {
   "cell_type": "code",
   "execution_count": 456,
   "id": "5b111565",
   "metadata": {},
   "outputs": [
    {
     "data": {
      "application/vnd.plotly.v1+json": {
       "config": {
        "plotlyServerURL": "https://plot.ly"
       },
       "data": [
        {
         "hovertemplate": "flight_count=%{x}<br>Прибыль на момент времени=%{y}<extra></extra>",
         "legendgroup": "",
         "line": {
          "color": "#636efa",
          "dash": "solid"
         },
         "marker": {
          "symbol": "circle"
         },
         "mode": "lines",
         "name": "",
         "orientation": "v",
         "showlegend": false,
         "type": "scatter",
         "x": [
          0,
          1,
          2,
          3,
          4,
          5,
          6,
          7,
          8,
          9,
          10,
          11,
          12,
          13,
          14,
          15,
          16,
          18,
          19,
          21,
          22,
          25,
          26,
          41
         ],
         "xaxis": "x",
         "y": [
          5924.891112835339,
          6374.297235958486,
          6024.234056162246,
          5082.857517123288,
          5797.5117469879515,
          6606.263709677419,
          5770.49175,
          6794.618195121951,
          5673.851183206107,
          6690.261509433962,
          9530.363888888889,
          7359.4192063492055,
          3576.227368421053,
          3739.2475,
          1362.1666666666667,
          5713.6125,
          4390.255,
          5132.504591836735,
          1915.4373333333335,
          5981.165128205128,
          4041.168181818182,
          1129.3,
          1675.804347826087,
          489.25
         ],
         "yaxis": "y"
        }
       ],
       "layout": {
        "legend": {
         "tracegroupgap": 0
        },
        "margin": {
         "t": 60
        },
        "template": {
         "data": {
          "bar": [
           {
            "error_x": {
             "color": "#2a3f5f"
            },
            "error_y": {
             "color": "#2a3f5f"
            },
            "marker": {
             "line": {
              "color": "#E5ECF6",
              "width": 0.5
             },
             "pattern": {
              "fillmode": "overlay",
              "size": 10,
              "solidity": 0.2
             }
            },
            "type": "bar"
           }
          ],
          "barpolar": [
           {
            "marker": {
             "line": {
              "color": "#E5ECF6",
              "width": 0.5
             },
             "pattern": {
              "fillmode": "overlay",
              "size": 10,
              "solidity": 0.2
             }
            },
            "type": "barpolar"
           }
          ],
          "carpet": [
           {
            "aaxis": {
             "endlinecolor": "#2a3f5f",
             "gridcolor": "white",
             "linecolor": "white",
             "minorgridcolor": "white",
             "startlinecolor": "#2a3f5f"
            },
            "baxis": {
             "endlinecolor": "#2a3f5f",
             "gridcolor": "white",
             "linecolor": "white",
             "minorgridcolor": "white",
             "startlinecolor": "#2a3f5f"
            },
            "type": "carpet"
           }
          ],
          "choropleth": [
           {
            "colorbar": {
             "outlinewidth": 0,
             "ticks": ""
            },
            "type": "choropleth"
           }
          ],
          "contour": [
           {
            "colorbar": {
             "outlinewidth": 0,
             "ticks": ""
            },
            "colorscale": [
             [
              0,
              "#0d0887"
             ],
             [
              0.1111111111111111,
              "#46039f"
             ],
             [
              0.2222222222222222,
              "#7201a8"
             ],
             [
              0.3333333333333333,
              "#9c179e"
             ],
             [
              0.4444444444444444,
              "#bd3786"
             ],
             [
              0.5555555555555556,
              "#d8576b"
             ],
             [
              0.6666666666666666,
              "#ed7953"
             ],
             [
              0.7777777777777778,
              "#fb9f3a"
             ],
             [
              0.8888888888888888,
              "#fdca26"
             ],
             [
              1,
              "#f0f921"
             ]
            ],
            "type": "contour"
           }
          ],
          "contourcarpet": [
           {
            "colorbar": {
             "outlinewidth": 0,
             "ticks": ""
            },
            "type": "contourcarpet"
           }
          ],
          "heatmap": [
           {
            "colorbar": {
             "outlinewidth": 0,
             "ticks": ""
            },
            "colorscale": [
             [
              0,
              "#0d0887"
             ],
             [
              0.1111111111111111,
              "#46039f"
             ],
             [
              0.2222222222222222,
              "#7201a8"
             ],
             [
              0.3333333333333333,
              "#9c179e"
             ],
             [
              0.4444444444444444,
              "#bd3786"
             ],
             [
              0.5555555555555556,
              "#d8576b"
             ],
             [
              0.6666666666666666,
              "#ed7953"
             ],
             [
              0.7777777777777778,
              "#fb9f3a"
             ],
             [
              0.8888888888888888,
              "#fdca26"
             ],
             [
              1,
              "#f0f921"
             ]
            ],
            "type": "heatmap"
           }
          ],
          "heatmapgl": [
           {
            "colorbar": {
             "outlinewidth": 0,
             "ticks": ""
            },
            "colorscale": [
             [
              0,
              "#0d0887"
             ],
             [
              0.1111111111111111,
              "#46039f"
             ],
             [
              0.2222222222222222,
              "#7201a8"
             ],
             [
              0.3333333333333333,
              "#9c179e"
             ],
             [
              0.4444444444444444,
              "#bd3786"
             ],
             [
              0.5555555555555556,
              "#d8576b"
             ],
             [
              0.6666666666666666,
              "#ed7953"
             ],
             [
              0.7777777777777778,
              "#fb9f3a"
             ],
             [
              0.8888888888888888,
              "#fdca26"
             ],
             [
              1,
              "#f0f921"
             ]
            ],
            "type": "heatmapgl"
           }
          ],
          "histogram": [
           {
            "marker": {
             "pattern": {
              "fillmode": "overlay",
              "size": 10,
              "solidity": 0.2
             }
            },
            "type": "histogram"
           }
          ],
          "histogram2d": [
           {
            "colorbar": {
             "outlinewidth": 0,
             "ticks": ""
            },
            "colorscale": [
             [
              0,
              "#0d0887"
             ],
             [
              0.1111111111111111,
              "#46039f"
             ],
             [
              0.2222222222222222,
              "#7201a8"
             ],
             [
              0.3333333333333333,
              "#9c179e"
             ],
             [
              0.4444444444444444,
              "#bd3786"
             ],
             [
              0.5555555555555556,
              "#d8576b"
             ],
             [
              0.6666666666666666,
              "#ed7953"
             ],
             [
              0.7777777777777778,
              "#fb9f3a"
             ],
             [
              0.8888888888888888,
              "#fdca26"
             ],
             [
              1,
              "#f0f921"
             ]
            ],
            "type": "histogram2d"
           }
          ],
          "histogram2dcontour": [
           {
            "colorbar": {
             "outlinewidth": 0,
             "ticks": ""
            },
            "colorscale": [
             [
              0,
              "#0d0887"
             ],
             [
              0.1111111111111111,
              "#46039f"
             ],
             [
              0.2222222222222222,
              "#7201a8"
             ],
             [
              0.3333333333333333,
              "#9c179e"
             ],
             [
              0.4444444444444444,
              "#bd3786"
             ],
             [
              0.5555555555555556,
              "#d8576b"
             ],
             [
              0.6666666666666666,
              "#ed7953"
             ],
             [
              0.7777777777777778,
              "#fb9f3a"
             ],
             [
              0.8888888888888888,
              "#fdca26"
             ],
             [
              1,
              "#f0f921"
             ]
            ],
            "type": "histogram2dcontour"
           }
          ],
          "mesh3d": [
           {
            "colorbar": {
             "outlinewidth": 0,
             "ticks": ""
            },
            "type": "mesh3d"
           }
          ],
          "parcoords": [
           {
            "line": {
             "colorbar": {
              "outlinewidth": 0,
              "ticks": ""
             }
            },
            "type": "parcoords"
           }
          ],
          "pie": [
           {
            "automargin": true,
            "type": "pie"
           }
          ],
          "scatter": [
           {
            "fillpattern": {
             "fillmode": "overlay",
             "size": 10,
             "solidity": 0.2
            },
            "type": "scatter"
           }
          ],
          "scatter3d": [
           {
            "line": {
             "colorbar": {
              "outlinewidth": 0,
              "ticks": ""
             }
            },
            "marker": {
             "colorbar": {
              "outlinewidth": 0,
              "ticks": ""
             }
            },
            "type": "scatter3d"
           }
          ],
          "scattercarpet": [
           {
            "marker": {
             "colorbar": {
              "outlinewidth": 0,
              "ticks": ""
             }
            },
            "type": "scattercarpet"
           }
          ],
          "scattergeo": [
           {
            "marker": {
             "colorbar": {
              "outlinewidth": 0,
              "ticks": ""
             }
            },
            "type": "scattergeo"
           }
          ],
          "scattergl": [
           {
            "marker": {
             "colorbar": {
              "outlinewidth": 0,
              "ticks": ""
             }
            },
            "type": "scattergl"
           }
          ],
          "scattermapbox": [
           {
            "marker": {
             "colorbar": {
              "outlinewidth": 0,
              "ticks": ""
             }
            },
            "type": "scattermapbox"
           }
          ],
          "scatterpolar": [
           {
            "marker": {
             "colorbar": {
              "outlinewidth": 0,
              "ticks": ""
             }
            },
            "type": "scatterpolar"
           }
          ],
          "scatterpolargl": [
           {
            "marker": {
             "colorbar": {
              "outlinewidth": 0,
              "ticks": ""
             }
            },
            "type": "scatterpolargl"
           }
          ],
          "scatterternary": [
           {
            "marker": {
             "colorbar": {
              "outlinewidth": 0,
              "ticks": ""
             }
            },
            "type": "scatterternary"
           }
          ],
          "surface": [
           {
            "colorbar": {
             "outlinewidth": 0,
             "ticks": ""
            },
            "colorscale": [
             [
              0,
              "#0d0887"
             ],
             [
              0.1111111111111111,
              "#46039f"
             ],
             [
              0.2222222222222222,
              "#7201a8"
             ],
             [
              0.3333333333333333,
              "#9c179e"
             ],
             [
              0.4444444444444444,
              "#bd3786"
             ],
             [
              0.5555555555555556,
              "#d8576b"
             ],
             [
              0.6666666666666666,
              "#ed7953"
             ],
             [
              0.7777777777777778,
              "#fb9f3a"
             ],
             [
              0.8888888888888888,
              "#fdca26"
             ],
             [
              1,
              "#f0f921"
             ]
            ],
            "type": "surface"
           }
          ],
          "table": [
           {
            "cells": {
             "fill": {
              "color": "#EBF0F8"
             },
             "line": {
              "color": "white"
             }
            },
            "header": {
             "fill": {
              "color": "#C8D4E3"
             },
             "line": {
              "color": "white"
             }
            },
            "type": "table"
           }
          ]
         },
         "layout": {
          "annotationdefaults": {
           "arrowcolor": "#2a3f5f",
           "arrowhead": 0,
           "arrowwidth": 1
          },
          "autotypenumbers": "strict",
          "coloraxis": {
           "colorbar": {
            "outlinewidth": 0,
            "ticks": ""
           }
          },
          "colorscale": {
           "diverging": [
            [
             0,
             "#8e0152"
            ],
            [
             0.1,
             "#c51b7d"
            ],
            [
             0.2,
             "#de77ae"
            ],
            [
             0.3,
             "#f1b6da"
            ],
            [
             0.4,
             "#fde0ef"
            ],
            [
             0.5,
             "#f7f7f7"
            ],
            [
             0.6,
             "#e6f5d0"
            ],
            [
             0.7,
             "#b8e186"
            ],
            [
             0.8,
             "#7fbc41"
            ],
            [
             0.9,
             "#4d9221"
            ],
            [
             1,
             "#276419"
            ]
           ],
           "sequential": [
            [
             0,
             "#0d0887"
            ],
            [
             0.1111111111111111,
             "#46039f"
            ],
            [
             0.2222222222222222,
             "#7201a8"
            ],
            [
             0.3333333333333333,
             "#9c179e"
            ],
            [
             0.4444444444444444,
             "#bd3786"
            ],
            [
             0.5555555555555556,
             "#d8576b"
            ],
            [
             0.6666666666666666,
             "#ed7953"
            ],
            [
             0.7777777777777778,
             "#fb9f3a"
            ],
            [
             0.8888888888888888,
             "#fdca26"
            ],
            [
             1,
             "#f0f921"
            ]
           ],
           "sequentialminus": [
            [
             0,
             "#0d0887"
            ],
            [
             0.1111111111111111,
             "#46039f"
            ],
            [
             0.2222222222222222,
             "#7201a8"
            ],
            [
             0.3333333333333333,
             "#9c179e"
            ],
            [
             0.4444444444444444,
             "#bd3786"
            ],
            [
             0.5555555555555556,
             "#d8576b"
            ],
            [
             0.6666666666666666,
             "#ed7953"
            ],
            [
             0.7777777777777778,
             "#fb9f3a"
            ],
            [
             0.8888888888888888,
             "#fdca26"
            ],
            [
             1,
             "#f0f921"
            ]
           ]
          },
          "colorway": [
           "#636efa",
           "#EF553B",
           "#00cc96",
           "#ab63fa",
           "#FFA15A",
           "#19d3f3",
           "#FF6692",
           "#B6E880",
           "#FF97FF",
           "#FECB52"
          ],
          "font": {
           "color": "#2a3f5f"
          },
          "geo": {
           "bgcolor": "white",
           "lakecolor": "white",
           "landcolor": "#E5ECF6",
           "showlakes": true,
           "showland": true,
           "subunitcolor": "white"
          },
          "hoverlabel": {
           "align": "left"
          },
          "hovermode": "closest",
          "mapbox": {
           "style": "light"
          },
          "paper_bgcolor": "white",
          "plot_bgcolor": "#E5ECF6",
          "polar": {
           "angularaxis": {
            "gridcolor": "white",
            "linecolor": "white",
            "ticks": ""
           },
           "bgcolor": "#E5ECF6",
           "radialaxis": {
            "gridcolor": "white",
            "linecolor": "white",
            "ticks": ""
           }
          },
          "scene": {
           "xaxis": {
            "backgroundcolor": "#E5ECF6",
            "gridcolor": "white",
            "gridwidth": 2,
            "linecolor": "white",
            "showbackground": true,
            "ticks": "",
            "zerolinecolor": "white"
           },
           "yaxis": {
            "backgroundcolor": "#E5ECF6",
            "gridcolor": "white",
            "gridwidth": 2,
            "linecolor": "white",
            "showbackground": true,
            "ticks": "",
            "zerolinecolor": "white"
           },
           "zaxis": {
            "backgroundcolor": "#E5ECF6",
            "gridcolor": "white",
            "gridwidth": 2,
            "linecolor": "white",
            "showbackground": true,
            "ticks": "",
            "zerolinecolor": "white"
           }
          },
          "shapedefaults": {
           "line": {
            "color": "#2a3f5f"
           }
          },
          "ternary": {
           "aaxis": {
            "gridcolor": "white",
            "linecolor": "white",
            "ticks": ""
           },
           "baxis": {
            "gridcolor": "white",
            "linecolor": "white",
            "ticks": ""
           },
           "bgcolor": "#E5ECF6",
           "caxis": {
            "gridcolor": "white",
            "linecolor": "white",
            "ticks": ""
           }
          },
          "title": {
           "x": 0.05
          },
          "xaxis": {
           "automargin": true,
           "gridcolor": "white",
           "linecolor": "white",
           "ticks": "",
           "title": {
            "standoff": 15
           },
           "zerolinecolor": "white",
           "zerolinewidth": 2
          },
          "yaxis": {
           "automargin": true,
           "gridcolor": "white",
           "linecolor": "white",
           "ticks": "",
           "title": {
            "standoff": 15
           },
           "zerolinecolor": "white",
           "zerolinewidth": 2
          }
         }
        },
        "xaxis": {
         "anchor": "y",
         "domain": [
          0,
          1
         ],
         "title": {
          "text": "flight_count"
         }
        },
        "yaxis": {
         "anchor": "x",
         "domain": [
          0,
          1
         ],
         "title": {
          "text": "Прибыль на момент времени"
         }
        }
       }
      },
      "text/html": [
       "<div>                            <div id=\"5dbe0586-edbc-4bb7-8fa8-8f801b563b62\" class=\"plotly-graph-div\" style=\"height:525px; width:100%;\"></div>            <script type=\"text/javascript\">                require([\"plotly\"], function(Plotly) {                    window.PLOTLYENV=window.PLOTLYENV || {};                                    if (document.getElementById(\"5dbe0586-edbc-4bb7-8fa8-8f801b563b62\")) {                    Plotly.newPlot(                        \"5dbe0586-edbc-4bb7-8fa8-8f801b563b62\",                        [{\"hovertemplate\":\"flight_count=%{x}<br>\\u041f\\u0440\\u0438\\u0431\\u044b\\u043b\\u044c \\u043d\\u0430 \\u043c\\u043e\\u043c\\u0435\\u043d\\u0442 \\u0432\\u0440\\u0435\\u043c\\u0435\\u043d\\u0438=%{y}<extra></extra>\",\"legendgroup\":\"\",\"line\":{\"color\":\"#636efa\",\"dash\":\"solid\"},\"marker\":{\"symbol\":\"circle\"},\"mode\":\"lines\",\"name\":\"\",\"orientation\":\"v\",\"showlegend\":false,\"x\":[0,1,2,3,4,5,6,7,8,9,10,11,12,13,14,15,16,18,19,21,22,25,26,41],\"xaxis\":\"x\",\"y\":[5924.891112835339,6374.297235958486,6024.234056162246,5082.857517123288,5797.5117469879515,6606.263709677419,5770.49175,6794.618195121951,5673.851183206107,6690.261509433962,9530.363888888889,7359.4192063492055,3576.227368421053,3739.2475,1362.1666666666667,5713.6125,4390.255,5132.504591836735,1915.4373333333335,5981.165128205128,4041.168181818182,1129.3,1675.804347826087,489.25],\"yaxis\":\"y\",\"type\":\"scatter\"}],                        {\"template\":{\"data\":{\"histogram2dcontour\":[{\"type\":\"histogram2dcontour\",\"colorbar\":{\"outlinewidth\":0,\"ticks\":\"\"},\"colorscale\":[[0.0,\"#0d0887\"],[0.1111111111111111,\"#46039f\"],[0.2222222222222222,\"#7201a8\"],[0.3333333333333333,\"#9c179e\"],[0.4444444444444444,\"#bd3786\"],[0.5555555555555556,\"#d8576b\"],[0.6666666666666666,\"#ed7953\"],[0.7777777777777778,\"#fb9f3a\"],[0.8888888888888888,\"#fdca26\"],[1.0,\"#f0f921\"]]}],\"choropleth\":[{\"type\":\"choropleth\",\"colorbar\":{\"outlinewidth\":0,\"ticks\":\"\"}}],\"histogram2d\":[{\"type\":\"histogram2d\",\"colorbar\":{\"outlinewidth\":0,\"ticks\":\"\"},\"colorscale\":[[0.0,\"#0d0887\"],[0.1111111111111111,\"#46039f\"],[0.2222222222222222,\"#7201a8\"],[0.3333333333333333,\"#9c179e\"],[0.4444444444444444,\"#bd3786\"],[0.5555555555555556,\"#d8576b\"],[0.6666666666666666,\"#ed7953\"],[0.7777777777777778,\"#fb9f3a\"],[0.8888888888888888,\"#fdca26\"],[1.0,\"#f0f921\"]]}],\"heatmap\":[{\"type\":\"heatmap\",\"colorbar\":{\"outlinewidth\":0,\"ticks\":\"\"},\"colorscale\":[[0.0,\"#0d0887\"],[0.1111111111111111,\"#46039f\"],[0.2222222222222222,\"#7201a8\"],[0.3333333333333333,\"#9c179e\"],[0.4444444444444444,\"#bd3786\"],[0.5555555555555556,\"#d8576b\"],[0.6666666666666666,\"#ed7953\"],[0.7777777777777778,\"#fb9f3a\"],[0.8888888888888888,\"#fdca26\"],[1.0,\"#f0f921\"]]}],\"heatmapgl\":[{\"type\":\"heatmapgl\",\"colorbar\":{\"outlinewidth\":0,\"ticks\":\"\"},\"colorscale\":[[0.0,\"#0d0887\"],[0.1111111111111111,\"#46039f\"],[0.2222222222222222,\"#7201a8\"],[0.3333333333333333,\"#9c179e\"],[0.4444444444444444,\"#bd3786\"],[0.5555555555555556,\"#d8576b\"],[0.6666666666666666,\"#ed7953\"],[0.7777777777777778,\"#fb9f3a\"],[0.8888888888888888,\"#fdca26\"],[1.0,\"#f0f921\"]]}],\"contourcarpet\":[{\"type\":\"contourcarpet\",\"colorbar\":{\"outlinewidth\":0,\"ticks\":\"\"}}],\"contour\":[{\"type\":\"contour\",\"colorbar\":{\"outlinewidth\":0,\"ticks\":\"\"},\"colorscale\":[[0.0,\"#0d0887\"],[0.1111111111111111,\"#46039f\"],[0.2222222222222222,\"#7201a8\"],[0.3333333333333333,\"#9c179e\"],[0.4444444444444444,\"#bd3786\"],[0.5555555555555556,\"#d8576b\"],[0.6666666666666666,\"#ed7953\"],[0.7777777777777778,\"#fb9f3a\"],[0.8888888888888888,\"#fdca26\"],[1.0,\"#f0f921\"]]}],\"surface\":[{\"type\":\"surface\",\"colorbar\":{\"outlinewidth\":0,\"ticks\":\"\"},\"colorscale\":[[0.0,\"#0d0887\"],[0.1111111111111111,\"#46039f\"],[0.2222222222222222,\"#7201a8\"],[0.3333333333333333,\"#9c179e\"],[0.4444444444444444,\"#bd3786\"],[0.5555555555555556,\"#d8576b\"],[0.6666666666666666,\"#ed7953\"],[0.7777777777777778,\"#fb9f3a\"],[0.8888888888888888,\"#fdca26\"],[1.0,\"#f0f921\"]]}],\"mesh3d\":[{\"type\":\"mesh3d\",\"colorbar\":{\"outlinewidth\":0,\"ticks\":\"\"}}],\"scatter\":[{\"fillpattern\":{\"fillmode\":\"overlay\",\"size\":10,\"solidity\":0.2},\"type\":\"scatter\"}],\"parcoords\":[{\"type\":\"parcoords\",\"line\":{\"colorbar\":{\"outlinewidth\":0,\"ticks\":\"\"}}}],\"scatterpolargl\":[{\"type\":\"scatterpolargl\",\"marker\":{\"colorbar\":{\"outlinewidth\":0,\"ticks\":\"\"}}}],\"bar\":[{\"error_x\":{\"color\":\"#2a3f5f\"},\"error_y\":{\"color\":\"#2a3f5f\"},\"marker\":{\"line\":{\"color\":\"#E5ECF6\",\"width\":0.5},\"pattern\":{\"fillmode\":\"overlay\",\"size\":10,\"solidity\":0.2}},\"type\":\"bar\"}],\"scattergeo\":[{\"type\":\"scattergeo\",\"marker\":{\"colorbar\":{\"outlinewidth\":0,\"ticks\":\"\"}}}],\"scatterpolar\":[{\"type\":\"scatterpolar\",\"marker\":{\"colorbar\":{\"outlinewidth\":0,\"ticks\":\"\"}}}],\"histogram\":[{\"marker\":{\"pattern\":{\"fillmode\":\"overlay\",\"size\":10,\"solidity\":0.2}},\"type\":\"histogram\"}],\"scattergl\":[{\"type\":\"scattergl\",\"marker\":{\"colorbar\":{\"outlinewidth\":0,\"ticks\":\"\"}}}],\"scatter3d\":[{\"type\":\"scatter3d\",\"line\":{\"colorbar\":{\"outlinewidth\":0,\"ticks\":\"\"}},\"marker\":{\"colorbar\":{\"outlinewidth\":0,\"ticks\":\"\"}}}],\"scattermapbox\":[{\"type\":\"scattermapbox\",\"marker\":{\"colorbar\":{\"outlinewidth\":0,\"ticks\":\"\"}}}],\"scatterternary\":[{\"type\":\"scatterternary\",\"marker\":{\"colorbar\":{\"outlinewidth\":0,\"ticks\":\"\"}}}],\"scattercarpet\":[{\"type\":\"scattercarpet\",\"marker\":{\"colorbar\":{\"outlinewidth\":0,\"ticks\":\"\"}}}],\"carpet\":[{\"aaxis\":{\"endlinecolor\":\"#2a3f5f\",\"gridcolor\":\"white\",\"linecolor\":\"white\",\"minorgridcolor\":\"white\",\"startlinecolor\":\"#2a3f5f\"},\"baxis\":{\"endlinecolor\":\"#2a3f5f\",\"gridcolor\":\"white\",\"linecolor\":\"white\",\"minorgridcolor\":\"white\",\"startlinecolor\":\"#2a3f5f\"},\"type\":\"carpet\"}],\"table\":[{\"cells\":{\"fill\":{\"color\":\"#EBF0F8\"},\"line\":{\"color\":\"white\"}},\"header\":{\"fill\":{\"color\":\"#C8D4E3\"},\"line\":{\"color\":\"white\"}},\"type\":\"table\"}],\"barpolar\":[{\"marker\":{\"line\":{\"color\":\"#E5ECF6\",\"width\":0.5},\"pattern\":{\"fillmode\":\"overlay\",\"size\":10,\"solidity\":0.2}},\"type\":\"barpolar\"}],\"pie\":[{\"automargin\":true,\"type\":\"pie\"}]},\"layout\":{\"autotypenumbers\":\"strict\",\"colorway\":[\"#636efa\",\"#EF553B\",\"#00cc96\",\"#ab63fa\",\"#FFA15A\",\"#19d3f3\",\"#FF6692\",\"#B6E880\",\"#FF97FF\",\"#FECB52\"],\"font\":{\"color\":\"#2a3f5f\"},\"hovermode\":\"closest\",\"hoverlabel\":{\"align\":\"left\"},\"paper_bgcolor\":\"white\",\"plot_bgcolor\":\"#E5ECF6\",\"polar\":{\"bgcolor\":\"#E5ECF6\",\"angularaxis\":{\"gridcolor\":\"white\",\"linecolor\":\"white\",\"ticks\":\"\"},\"radialaxis\":{\"gridcolor\":\"white\",\"linecolor\":\"white\",\"ticks\":\"\"}},\"ternary\":{\"bgcolor\":\"#E5ECF6\",\"aaxis\":{\"gridcolor\":\"white\",\"linecolor\":\"white\",\"ticks\":\"\"},\"baxis\":{\"gridcolor\":\"white\",\"linecolor\":\"white\",\"ticks\":\"\"},\"caxis\":{\"gridcolor\":\"white\",\"linecolor\":\"white\",\"ticks\":\"\"}},\"coloraxis\":{\"colorbar\":{\"outlinewidth\":0,\"ticks\":\"\"}},\"colorscale\":{\"sequential\":[[0.0,\"#0d0887\"],[0.1111111111111111,\"#46039f\"],[0.2222222222222222,\"#7201a8\"],[0.3333333333333333,\"#9c179e\"],[0.4444444444444444,\"#bd3786\"],[0.5555555555555556,\"#d8576b\"],[0.6666666666666666,\"#ed7953\"],[0.7777777777777778,\"#fb9f3a\"],[0.8888888888888888,\"#fdca26\"],[1.0,\"#f0f921\"]],\"sequentialminus\":[[0.0,\"#0d0887\"],[0.1111111111111111,\"#46039f\"],[0.2222222222222222,\"#7201a8\"],[0.3333333333333333,\"#9c179e\"],[0.4444444444444444,\"#bd3786\"],[0.5555555555555556,\"#d8576b\"],[0.6666666666666666,\"#ed7953\"],[0.7777777777777778,\"#fb9f3a\"],[0.8888888888888888,\"#fdca26\"],[1.0,\"#f0f921\"]],\"diverging\":[[0,\"#8e0152\"],[0.1,\"#c51b7d\"],[0.2,\"#de77ae\"],[0.3,\"#f1b6da\"],[0.4,\"#fde0ef\"],[0.5,\"#f7f7f7\"],[0.6,\"#e6f5d0\"],[0.7,\"#b8e186\"],[0.8,\"#7fbc41\"],[0.9,\"#4d9221\"],[1,\"#276419\"]]},\"xaxis\":{\"gridcolor\":\"white\",\"linecolor\":\"white\",\"ticks\":\"\",\"title\":{\"standoff\":15},\"zerolinecolor\":\"white\",\"automargin\":true,\"zerolinewidth\":2},\"yaxis\":{\"gridcolor\":\"white\",\"linecolor\":\"white\",\"ticks\":\"\",\"title\":{\"standoff\":15},\"zerolinecolor\":\"white\",\"automargin\":true,\"zerolinewidth\":2},\"scene\":{\"xaxis\":{\"backgroundcolor\":\"#E5ECF6\",\"gridcolor\":\"white\",\"linecolor\":\"white\",\"showbackground\":true,\"ticks\":\"\",\"zerolinecolor\":\"white\",\"gridwidth\":2},\"yaxis\":{\"backgroundcolor\":\"#E5ECF6\",\"gridcolor\":\"white\",\"linecolor\":\"white\",\"showbackground\":true,\"ticks\":\"\",\"zerolinecolor\":\"white\",\"gridwidth\":2},\"zaxis\":{\"backgroundcolor\":\"#E5ECF6\",\"gridcolor\":\"white\",\"linecolor\":\"white\",\"showbackground\":true,\"ticks\":\"\",\"zerolinecolor\":\"white\",\"gridwidth\":2}},\"shapedefaults\":{\"line\":{\"color\":\"#2a3f5f\"}},\"annotationdefaults\":{\"arrowcolor\":\"#2a3f5f\",\"arrowhead\":0,\"arrowwidth\":1},\"geo\":{\"bgcolor\":\"white\",\"landcolor\":\"#E5ECF6\",\"subunitcolor\":\"white\",\"showland\":true,\"showlakes\":true,\"lakecolor\":\"white\"},\"title\":{\"x\":0.05},\"mapbox\":{\"style\":\"light\"}}},\"xaxis\":{\"anchor\":\"y\",\"domain\":[0.0,1.0],\"title\":{\"text\":\"flight_count\"}},\"yaxis\":{\"anchor\":\"x\",\"domain\":[0.0,1.0],\"title\":{\"text\":\"\\u041f\\u0440\\u0438\\u0431\\u044b\\u043b\\u044c \\u043d\\u0430 \\u043c\\u043e\\u043c\\u0435\\u043d\\u0442 \\u0432\\u0440\\u0435\\u043c\\u0435\\u043d\\u0438\"}},\"legend\":{\"tracegroupgap\":0},\"margin\":{\"t\":60}},                        {\"responsive\": true}                    ).then(function(){\n",
       "                            \n",
       "var gd = document.getElementById('5dbe0586-edbc-4bb7-8fa8-8f801b563b62');\n",
       "var x = new MutationObserver(function (mutations, observer) {{\n",
       "        var display = window.getComputedStyle(gd).display;\n",
       "        if (!display || display === 'none') {{\n",
       "            console.log([gd, 'removed!']);\n",
       "            Plotly.purge(gd);\n",
       "            observer.disconnect();\n",
       "        }}\n",
       "}});\n",
       "\n",
       "// Listen for the removal of the full notebook cells\n",
       "var notebookContainer = gd.closest('#notebook-container');\n",
       "if (notebookContainer) {{\n",
       "    x.observe(notebookContainer, {childList: true});\n",
       "}}\n",
       "\n",
       "// Listen for the clearing of the current output cell\n",
       "var outputEl = gd.closest('.output');\n",
       "if (outputEl) {{\n",
       "    x.observe(outputEl, {childList: true});\n",
       "}}\n",
       "\n",
       "                        })                };                });            </script>        </div>"
      ]
     },
     "metadata": {},
     "output_type": "display_data"
    }
   ],
   "source": [
    "df12 = df_12.groupby('flight_count').mean().reset_index()\n",
    "px.line(data_frame = df12, x = 'flight_count', y = 'Прибыль на момент времени')"
   ]
  },
  {
   "cell_type": "code",
   "execution_count": 457,
   "id": "64788598",
   "metadata": {},
   "outputs": [
    {
     "data": {
      "text/html": [
       "<div>\n",
       "<style scoped>\n",
       "    .dataframe tbody tr th:only-of-type {\n",
       "        vertical-align: middle;\n",
       "    }\n",
       "\n",
       "    .dataframe tbody tr th {\n",
       "        vertical-align: top;\n",
       "    }\n",
       "\n",
       "    .dataframe thead th {\n",
       "        text-align: right;\n",
       "    }\n",
       "</style>\n",
       "<table border=\"1\" class=\"dataframe\">\n",
       "  <thead>\n",
       "    <tr style=\"text-align: right;\">\n",
       "      <th></th>\n",
       "      <th>Выход на рейс</th>\n",
       "      <th>Рейс</th>\n",
       "      <th>RU</th>\n",
       "      <th>count</th>\n",
       "      <th>gate</th>\n",
       "      <th>ru_server</th>\n",
       "    </tr>\n",
       "  </thead>\n",
       "  <tbody>\n",
       "    <tr>\n",
       "      <th>0</th>\n",
       "      <td>2022-06-01 00:00:00</td>\n",
       "      <td>SU 1478</td>\n",
       "      <td>True</td>\n",
       "      <td>159</td>\n",
       "      <td>B</td>\n",
       "      <td>159</td>\n",
       "    </tr>\n",
       "    <tr>\n",
       "      <th>1</th>\n",
       "      <td>2022-06-01 00:14:00</td>\n",
       "      <td>WZ 5081</td>\n",
       "      <td>False</td>\n",
       "      <td>416</td>\n",
       "      <td>C</td>\n",
       "      <td>0</td>\n",
       "    </tr>\n",
       "    <tr>\n",
       "      <th>2</th>\n",
       "      <td>2022-06-01 00:24:00</td>\n",
       "      <td>5N 237</td>\n",
       "      <td>True</td>\n",
       "      <td>190</td>\n",
       "      <td>B</td>\n",
       "      <td>190</td>\n",
       "    </tr>\n",
       "    <tr>\n",
       "      <th>3</th>\n",
       "      <td>2022-06-01 00:26:00</td>\n",
       "      <td>SU 046</td>\n",
       "      <td>True</td>\n",
       "      <td>77</td>\n",
       "      <td>B</td>\n",
       "      <td>77</td>\n",
       "    </tr>\n",
       "    <tr>\n",
       "      <th>4</th>\n",
       "      <td>2022-06-01 00:27:00</td>\n",
       "      <td>SU 1428</td>\n",
       "      <td>True</td>\n",
       "      <td>155</td>\n",
       "      <td>B</td>\n",
       "      <td>155</td>\n",
       "    </tr>\n",
       "    <tr>\n",
       "      <th>...</th>\n",
       "      <td>...</td>\n",
       "      <td>...</td>\n",
       "      <td>...</td>\n",
       "      <td>...</td>\n",
       "      <td>...</td>\n",
       "      <td>...</td>\n",
       "    </tr>\n",
       "    <tr>\n",
       "      <th>1271</th>\n",
       "      <td>2022-06-30 08:36:00</td>\n",
       "      <td>SU 1486</td>\n",
       "      <td>True</td>\n",
       "      <td>1</td>\n",
       "      <td>B</td>\n",
       "      <td>1</td>\n",
       "    </tr>\n",
       "    <tr>\n",
       "      <th>1272</th>\n",
       "      <td>2022-06-30 08:42:00</td>\n",
       "      <td>SU 1366</td>\n",
       "      <td>True</td>\n",
       "      <td>1</td>\n",
       "      <td>B</td>\n",
       "      <td>1</td>\n",
       "    </tr>\n",
       "    <tr>\n",
       "      <th>1273</th>\n",
       "      <td>2022-06-30 08:54:00</td>\n",
       "      <td>SU 1460</td>\n",
       "      <td>True</td>\n",
       "      <td>2</td>\n",
       "      <td>B</td>\n",
       "      <td>2</td>\n",
       "    </tr>\n",
       "    <tr>\n",
       "      <th>1274</th>\n",
       "      <td>2022-06-30 10:03:00</td>\n",
       "      <td>SU 1610</td>\n",
       "      <td>True</td>\n",
       "      <td>2</td>\n",
       "      <td>B</td>\n",
       "      <td>2</td>\n",
       "    </tr>\n",
       "    <tr>\n",
       "      <th>1275</th>\n",
       "      <td>2022-06-30 11:01:00</td>\n",
       "      <td>SU 1234</td>\n",
       "      <td>True</td>\n",
       "      <td>2</td>\n",
       "      <td>B</td>\n",
       "      <td>2</td>\n",
       "    </tr>\n",
       "  </tbody>\n",
       "</table>\n",
       "<p>1276 rows × 6 columns</p>\n",
       "</div>"
      ],
      "text/plain": [
       "           Выход на рейс     Рейс     RU  count gate  ru_server\n",
       "0    2022-06-01 00:00:00  SU 1478   True    159    B        159\n",
       "1    2022-06-01 00:14:00  WZ 5081  False    416    C          0\n",
       "2    2022-06-01 00:24:00   5N 237   True    190    B        190\n",
       "3    2022-06-01 00:26:00   SU 046   True     77    B         77\n",
       "4    2022-06-01 00:27:00  SU 1428   True    155    B        155\n",
       "...                  ...      ...    ...    ...  ...        ...\n",
       "1271 2022-06-30 08:36:00  SU 1486   True      1    B          1\n",
       "1272 2022-06-30 08:42:00  SU 1366   True      1    B          1\n",
       "1273 2022-06-30 08:54:00  SU 1460   True      2    B          2\n",
       "1274 2022-06-30 10:03:00  SU 1610   True      2    B          2\n",
       "1275 2022-06-30 11:01:00  SU 1234   True      2    B          2\n",
       "\n",
       "[1276 rows x 6 columns]"
      ]
     },
     "execution_count": 457,
     "metadata": {},
     "output_type": "execute_result"
    }
   ],
   "source": [
    "af = manual_airports.copy()\n",
    "af = af.assign(RU=af[\"NAME\"].str.contains(r\"\\bРоссия\", regex=True))\n",
    "ru_data = set(af.loc[af[\"RU\"] == 1][\"IATACODE\"].array)\n",
    "\n",
    "uniq_traf = pass_trafic_5.copy()\n",
    "uniq_traf[\"RU\"] = uniq_traf[\"Направление куда летит\"].apply(lambda x: x in ru_data)\n",
    "uniq_traf = uniq_traf.groupby(['Выход на рейс', 'Рейс', \"RU\"]).agg(count=('Терминал', len), gate=('Терминал', max),\n",
    "                                                                   ru_server=(\"RU\", sum))\n",
    "uniq_traf = uniq_traf.reset_index()\n",
    "# uniq_traf = uniq_traf.merge(uniq_traf_, on = 'Выход на рейс').drop(columns = ['RU', 'gate_y','count_y'])\n",
    "# uniq_traf\n",
    "uniq_traf\n",
    "# make 2 new columns: terminalA, terminalB. In each column I'll write number of flights in each termnial"
   ]
  },
  {
   "cell_type": "code",
   "execution_count": 435,
   "id": "f9619682",
   "metadata": {},
   "outputs": [
    {
     "data": {
      "text/html": [
       "<div>\n",
       "<style scoped>\n",
       "    .dataframe tbody tr th:only-of-type {\n",
       "        vertical-align: middle;\n",
       "    }\n",
       "\n",
       "    .dataframe tbody tr th {\n",
       "        vertical-align: top;\n",
       "    }\n",
       "\n",
       "    .dataframe thead th {\n",
       "        text-align: right;\n",
       "    }\n",
       "</style>\n",
       "<table border=\"1\" class=\"dataframe\">\n",
       "  <thead>\n",
       "    <tr style=\"text-align: right;\">\n",
       "      <th></th>\n",
       "      <th>Дата</th>\n",
       "      <th>Дата с разбивкой по 30 минут</th>\n",
       "      <th>Прибыль на момент времени</th>\n",
       "      <th>Точка продаж</th>\n",
       "      <th>windgust</th>\n",
       "      <th>windspeed</th>\n",
       "      <th>visibility</th>\n",
       "      <th>evening</th>\n",
       "      <th>middle_day</th>\n",
       "      <th>night</th>\n",
       "      <th>flight_count</th>\n",
       "      <th>gate</th>\n",
       "      <th>count</th>\n",
       "      <th>datetime</th>\n",
       "      <th>ru_server</th>\n",
       "    </tr>\n",
       "  </thead>\n",
       "  <tbody>\n",
       "    <tr>\n",
       "      <th>0</th>\n",
       "      <td>2022-05-31</td>\n",
       "      <td>2022-05-31 23:30:00</td>\n",
       "      <td>540.0</td>\n",
       "      <td>15</td>\n",
       "      <td>5.4</td>\n",
       "      <td>6.6</td>\n",
       "      <td>6.2</td>\n",
       "      <td>1</td>\n",
       "      <td>0</td>\n",
       "      <td>0</td>\n",
       "      <td>1</td>\n",
       "      <td>0</td>\n",
       "      <td>0</td>\n",
       "      <td>2022-05-31 23:30:00</td>\n",
       "      <td>NaN</td>\n",
       "    </tr>\n",
       "    <tr>\n",
       "      <th>1</th>\n",
       "      <td>2022-05-31</td>\n",
       "      <td>2022-05-31 23:30:00</td>\n",
       "      <td>540.0</td>\n",
       "      <td>15</td>\n",
       "      <td>5.4</td>\n",
       "      <td>6.6</td>\n",
       "      <td>6.2</td>\n",
       "      <td>1</td>\n",
       "      <td>0</td>\n",
       "      <td>0</td>\n",
       "      <td>1</td>\n",
       "      <td>1</td>\n",
       "      <td>0</td>\n",
       "      <td>2022-05-31 23:30:00</td>\n",
       "      <td>NaN</td>\n",
       "    </tr>\n",
       "    <tr>\n",
       "      <th>2</th>\n",
       "      <td>2022-05-31</td>\n",
       "      <td>2022-05-31 23:30:00</td>\n",
       "      <td>438.5</td>\n",
       "      <td>5</td>\n",
       "      <td>5.4</td>\n",
       "      <td>6.6</td>\n",
       "      <td>6.2</td>\n",
       "      <td>1</td>\n",
       "      <td>0</td>\n",
       "      <td>0</td>\n",
       "      <td>1</td>\n",
       "      <td>0</td>\n",
       "      <td>0</td>\n",
       "      <td>2022-05-31 23:30:00</td>\n",
       "      <td>NaN</td>\n",
       "    </tr>\n",
       "    <tr>\n",
       "      <th>3</th>\n",
       "      <td>2022-05-31</td>\n",
       "      <td>2022-05-31 23:30:00</td>\n",
       "      <td>438.5</td>\n",
       "      <td>5</td>\n",
       "      <td>5.4</td>\n",
       "      <td>6.6</td>\n",
       "      <td>6.2</td>\n",
       "      <td>1</td>\n",
       "      <td>0</td>\n",
       "      <td>0</td>\n",
       "      <td>1</td>\n",
       "      <td>1</td>\n",
       "      <td>0</td>\n",
       "      <td>2022-05-31 23:30:00</td>\n",
       "      <td>NaN</td>\n",
       "    </tr>\n",
       "    <tr>\n",
       "      <th>4</th>\n",
       "      <td>2022-06-01</td>\n",
       "      <td>2022-06-01 00:00:00</td>\n",
       "      <td>290.0</td>\n",
       "      <td>14</td>\n",
       "      <td>5.8</td>\n",
       "      <td>5.1</td>\n",
       "      <td>4.5</td>\n",
       "      <td>0</td>\n",
       "      <td>0</td>\n",
       "      <td>1</td>\n",
       "      <td>0</td>\n",
       "      <td>0</td>\n",
       "      <td>0</td>\n",
       "      <td>2022-06-01 00:00:00</td>\n",
       "      <td>NaN</td>\n",
       "    </tr>\n",
       "    <tr>\n",
       "      <th>...</th>\n",
       "      <td>...</td>\n",
       "      <td>...</td>\n",
       "      <td>...</td>\n",
       "      <td>...</td>\n",
       "      <td>...</td>\n",
       "      <td>...</td>\n",
       "      <td>...</td>\n",
       "      <td>...</td>\n",
       "      <td>...</td>\n",
       "      <td>...</td>\n",
       "      <td>...</td>\n",
       "      <td>...</td>\n",
       "      <td>...</td>\n",
       "      <td>...</td>\n",
       "      <td>...</td>\n",
       "    </tr>\n",
       "    <tr>\n",
       "      <th>50066</th>\n",
       "      <td>2022-07-01</td>\n",
       "      <td>2022-07-01 00:00:00</td>\n",
       "      <td>508.0</td>\n",
       "      <td>12</td>\n",
       "      <td>8.6</td>\n",
       "      <td>11.4</td>\n",
       "      <td>10.0</td>\n",
       "      <td>0</td>\n",
       "      <td>0</td>\n",
       "      <td>1</td>\n",
       "      <td>0</td>\n",
       "      <td>1</td>\n",
       "      <td>0</td>\n",
       "      <td>2022-07-01 00:00:00</td>\n",
       "      <td>NaN</td>\n",
       "    </tr>\n",
       "    <tr>\n",
       "      <th>50067</th>\n",
       "      <td>2022-07-01</td>\n",
       "      <td>2022-07-01 00:00:00</td>\n",
       "      <td>197.5</td>\n",
       "      <td>24</td>\n",
       "      <td>8.6</td>\n",
       "      <td>11.4</td>\n",
       "      <td>10.0</td>\n",
       "      <td>0</td>\n",
       "      <td>0</td>\n",
       "      <td>1</td>\n",
       "      <td>0</td>\n",
       "      <td>0</td>\n",
       "      <td>0</td>\n",
       "      <td>2022-07-01 00:00:00</td>\n",
       "      <td>NaN</td>\n",
       "    </tr>\n",
       "    <tr>\n",
       "      <th>50068</th>\n",
       "      <td>2022-07-01</td>\n",
       "      <td>2022-07-01 00:00:00</td>\n",
       "      <td>197.5</td>\n",
       "      <td>24</td>\n",
       "      <td>8.6</td>\n",
       "      <td>11.4</td>\n",
       "      <td>10.0</td>\n",
       "      <td>0</td>\n",
       "      <td>0</td>\n",
       "      <td>1</td>\n",
       "      <td>0</td>\n",
       "      <td>1</td>\n",
       "      <td>0</td>\n",
       "      <td>2022-07-01 00:00:00</td>\n",
       "      <td>NaN</td>\n",
       "    </tr>\n",
       "    <tr>\n",
       "      <th>50069</th>\n",
       "      <td>2022-07-01</td>\n",
       "      <td>2022-07-01 00:30:00</td>\n",
       "      <td>8710.0</td>\n",
       "      <td>11</td>\n",
       "      <td>8.6</td>\n",
       "      <td>11.4</td>\n",
       "      <td>10.0</td>\n",
       "      <td>0</td>\n",
       "      <td>0</td>\n",
       "      <td>1</td>\n",
       "      <td>0</td>\n",
       "      <td>0</td>\n",
       "      <td>0</td>\n",
       "      <td>2022-07-01 00:30:00</td>\n",
       "      <td>NaN</td>\n",
       "    </tr>\n",
       "    <tr>\n",
       "      <th>50070</th>\n",
       "      <td>2022-07-01</td>\n",
       "      <td>2022-07-01 00:30:00</td>\n",
       "      <td>8710.0</td>\n",
       "      <td>11</td>\n",
       "      <td>8.6</td>\n",
       "      <td>11.4</td>\n",
       "      <td>10.0</td>\n",
       "      <td>0</td>\n",
       "      <td>0</td>\n",
       "      <td>1</td>\n",
       "      <td>0</td>\n",
       "      <td>1</td>\n",
       "      <td>0</td>\n",
       "      <td>2022-07-01 00:30:00</td>\n",
       "      <td>NaN</td>\n",
       "    </tr>\n",
       "  </tbody>\n",
       "</table>\n",
       "<p>50071 rows × 15 columns</p>\n",
       "</div>"
      ],
      "text/plain": [
       "            Дата Дата с разбивкой по 30 минут  Прибыль на момент времени  \\\n",
       "0     2022-05-31          2022-05-31 23:30:00                      540.0   \n",
       "1     2022-05-31          2022-05-31 23:30:00                      540.0   \n",
       "2     2022-05-31          2022-05-31 23:30:00                      438.5   \n",
       "3     2022-05-31          2022-05-31 23:30:00                      438.5   \n",
       "4     2022-06-01          2022-06-01 00:00:00                      290.0   \n",
       "...          ...                          ...                        ...   \n",
       "50066 2022-07-01          2022-07-01 00:00:00                      508.0   \n",
       "50067 2022-07-01          2022-07-01 00:00:00                      197.5   \n",
       "50068 2022-07-01          2022-07-01 00:00:00                      197.5   \n",
       "50069 2022-07-01          2022-07-01 00:30:00                     8710.0   \n",
       "50070 2022-07-01          2022-07-01 00:30:00                     8710.0   \n",
       "\n",
       "       Точка продаж  windgust  windspeed  visibility  evening  middle_day  \\\n",
       "0                15       5.4        6.6         6.2        1           0   \n",
       "1                15       5.4        6.6         6.2        1           0   \n",
       "2                 5       5.4        6.6         6.2        1           0   \n",
       "3                 5       5.4        6.6         6.2        1           0   \n",
       "4                14       5.8        5.1         4.5        0           0   \n",
       "...             ...       ...        ...         ...      ...         ...   \n",
       "50066            12       8.6       11.4        10.0        0           0   \n",
       "50067            24       8.6       11.4        10.0        0           0   \n",
       "50068            24       8.6       11.4        10.0        0           0   \n",
       "50069            11       8.6       11.4        10.0        0           0   \n",
       "50070            11       8.6       11.4        10.0        0           0   \n",
       "\n",
       "       night  flight_count  gate  count            datetime  ru_server  \n",
       "0          0             1     0      0 2022-05-31 23:30:00        NaN  \n",
       "1          0             1     1      0 2022-05-31 23:30:00        NaN  \n",
       "2          0             1     0      0 2022-05-31 23:30:00        NaN  \n",
       "3          0             1     1      0 2022-05-31 23:30:00        NaN  \n",
       "4          1             0     0      0 2022-06-01 00:00:00        NaN  \n",
       "...      ...           ...   ...    ...                 ...        ...  \n",
       "50066      1             0     1      0 2022-07-01 00:00:00        NaN  \n",
       "50067      1             0     0      0 2022-07-01 00:00:00        NaN  \n",
       "50068      1             0     1      0 2022-07-01 00:00:00        NaN  \n",
       "50069      1             0     0      0 2022-07-01 00:30:00        NaN  \n",
       "50070      1             0     1      0 2022-07-01 00:30:00        NaN  \n",
       "\n",
       "[50071 rows x 15 columns]"
      ]
     },
     "execution_count": 435,
     "metadata": {},
     "output_type": "execute_result"
    }
   ],
   "source": [
    "# Conncect these columns to main df\n",
    "df_5_intervals =pd.DataFrame(pd.date_range(start = min_data,end= max_data, freq = '30min'))\n",
    "df_flights = pd.DataFrame()\n",
    "i = 0\n",
    "for date in df_5_intervals[0]:\n",
    "    l_cor = date - dt.timedelta(hours = 4)\n",
    "    r_cor = date - dt.timedelta(minutes = 30) \n",
    "    flights_data = uniq_traf[(uniq_traf['Выход на рейс'] >= l_cor) & (uniq_traf['Выход на рейс'] <= r_cor)][['count', 'gate','ru_server']]\n",
    "    flights_data = flights_data.groupby('gate').sum().reset_index()\n",
    "    \n",
    "    if flights_data.shape[0] == 0:\n",
    "        flights_data  = pd.DataFrame({'gate':['B','C'], 'count':[0,0]})\n",
    "    flights_data['datetime'] = date\n",
    "   \n",
    "    df_flights = df_flights.append(flights_data)\n",
    "df_flights['gate'] = df_flights['gate'].apply(lambda x: 0 if x == 'B' else 1)\n",
    "df = df.merge(df_flights,left_on = 'Дата с разбивкой по 30 минут', right_on = 'datetime')\n",
    "df"
   ]
  },
  {
   "cell_type": "code",
   "execution_count": 436,
   "id": "edfc577d",
   "metadata": {},
   "outputs": [],
   "source": [
    "# Transform double rows (one row contains data about gate B, another aboute gate C) to 1 row 2 columns (1 column gateB, another gate C)\n",
    "\n",
    "#Add new column, that contains sum data of two gates\n",
    "df = df.merge(df.groupby(['Точка продаж','Дата с разбивкой по 30 минут'])['count'].sum(),left_on = ['Точка продаж','Дата с разбивкой по 30 минут'], right_index = True)\n",
    "#Change value in last column to contains data about First gate passanger traffic \n",
    "df = df.drop(columns = ['gate', 'datetime']).rename(columns = {'count_x':'count_B', 'count_y':'count_C'})\n",
    "df['count_C'] = df['count_C'] - df['count_B']\n",
    "# Drop surplus columns and rename columns to determ their meaning \n",
    "# avoid surplus rows\n",
    "df = df.drop_duplicates(subset = ['Дата с разбивкой по 30 минут','Точка продаж'])"
   ]
  },
  {
   "cell_type": "code",
   "execution_count": 437,
   "id": "365ff391",
   "metadata": {},
   "outputs": [],
   "source": [
    "df = df.merge(pd.get_dummies(df['Точка продаж']),left_index = True, right_index = True)\n",
    "df = df.drop(columns = ['Точка продаж'])"
   ]
  },
  {
   "cell_type": "code",
   "execution_count": 438,
   "id": "ed80558e",
   "metadata": {},
   "outputs": [],
   "source": [
    "prodcal = pd.read_csv(f'{path}/data-20181017t0930-structure-20181017t0930_5.csv')\n",
    "# TASK weekday\n",
    "def weekday(mydate):\n",
    "    # 4/30/2022\n",
    "    mydate = mydate.to_pydatetime().date()\n",
    "    month = {\"1\": \"Январь\", \"2\": \"Февраль\", \"3\": \"Март\", \"4\": \"Апрель\", \"5\": \"Май\", \"6\": \"Июнь\", \"7\": \"Июль\",\n",
    "             \"8\": \"Август\", \"9\": \"Сентябрь\", \"10\": \"Октябрь\", \"11\": \"Ноябрь\", \"12\": \"Декабрь\"}\n",
    "    prod_local = prodcal.loc[prodcal[\"Год/Месяц\"].isin([int(mydate.year)])][month[str(mydate.month)]].array[0].split(\",\")\n",
    "    return 1 if str(mydate.day) in prod_local else 0\n",
    "df = df.assign(Weekday=df['Дата'].apply(lambda x: weekday(x)))\n"
   ]
  },
  {
   "cell_type": "code",
   "execution_count": 439,
   "id": "7d9b6ad7",
   "metadata": {},
   "outputs": [
    {
     "data": {
      "text/html": [
       "<div>\n",
       "<style scoped>\n",
       "    .dataframe tbody tr th:only-of-type {\n",
       "        vertical-align: middle;\n",
       "    }\n",
       "\n",
       "    .dataframe tbody tr th {\n",
       "        vertical-align: top;\n",
       "    }\n",
       "\n",
       "    .dataframe thead th {\n",
       "        text-align: right;\n",
       "    }\n",
       "</style>\n",
       "<table border=\"1\" class=\"dataframe\">\n",
       "  <thead>\n",
       "    <tr style=\"text-align: right;\">\n",
       "      <th></th>\n",
       "      <th>windspeed</th>\n",
       "      <th>visibility</th>\n",
       "      <th>evening</th>\n",
       "      <th>middle_day</th>\n",
       "      <th>night</th>\n",
       "      <th>count_B</th>\n",
       "      <th>ru_server</th>\n",
       "      <th>count_C</th>\n",
       "      <th>1</th>\n",
       "      <th>2</th>\n",
       "      <th>...</th>\n",
       "      <th>21</th>\n",
       "      <th>22</th>\n",
       "      <th>23</th>\n",
       "      <th>24</th>\n",
       "      <th>25</th>\n",
       "      <th>26</th>\n",
       "      <th>27</th>\n",
       "      <th>28</th>\n",
       "      <th>30</th>\n",
       "      <th>Weekday</th>\n",
       "    </tr>\n",
       "  </thead>\n",
       "  <tbody>\n",
       "    <tr>\n",
       "      <th>0</th>\n",
       "      <td>6.6</td>\n",
       "      <td>6.2</td>\n",
       "      <td>1</td>\n",
       "      <td>0</td>\n",
       "      <td>0</td>\n",
       "      <td>0</td>\n",
       "      <td>NaN</td>\n",
       "      <td>0</td>\n",
       "      <td>0</td>\n",
       "      <td>0</td>\n",
       "      <td>...</td>\n",
       "      <td>0</td>\n",
       "      <td>0</td>\n",
       "      <td>0</td>\n",
       "      <td>0</td>\n",
       "      <td>0</td>\n",
       "      <td>0</td>\n",
       "      <td>0</td>\n",
       "      <td>0</td>\n",
       "      <td>0</td>\n",
       "      <td>0</td>\n",
       "    </tr>\n",
       "    <tr>\n",
       "      <th>2</th>\n",
       "      <td>6.6</td>\n",
       "      <td>6.2</td>\n",
       "      <td>1</td>\n",
       "      <td>0</td>\n",
       "      <td>0</td>\n",
       "      <td>0</td>\n",
       "      <td>NaN</td>\n",
       "      <td>0</td>\n",
       "      <td>0</td>\n",
       "      <td>0</td>\n",
       "      <td>...</td>\n",
       "      <td>0</td>\n",
       "      <td>0</td>\n",
       "      <td>0</td>\n",
       "      <td>0</td>\n",
       "      <td>0</td>\n",
       "      <td>0</td>\n",
       "      <td>0</td>\n",
       "      <td>0</td>\n",
       "      <td>0</td>\n",
       "      <td>0</td>\n",
       "    </tr>\n",
       "    <tr>\n",
       "      <th>4</th>\n",
       "      <td>5.1</td>\n",
       "      <td>4.5</td>\n",
       "      <td>0</td>\n",
       "      <td>0</td>\n",
       "      <td>1</td>\n",
       "      <td>0</td>\n",
       "      <td>NaN</td>\n",
       "      <td>0</td>\n",
       "      <td>0</td>\n",
       "      <td>0</td>\n",
       "      <td>...</td>\n",
       "      <td>0</td>\n",
       "      <td>0</td>\n",
       "      <td>0</td>\n",
       "      <td>0</td>\n",
       "      <td>0</td>\n",
       "      <td>0</td>\n",
       "      <td>0</td>\n",
       "      <td>0</td>\n",
       "      <td>0</td>\n",
       "      <td>0</td>\n",
       "    </tr>\n",
       "    <tr>\n",
       "      <th>6</th>\n",
       "      <td>5.1</td>\n",
       "      <td>4.5</td>\n",
       "      <td>0</td>\n",
       "      <td>0</td>\n",
       "      <td>1</td>\n",
       "      <td>0</td>\n",
       "      <td>NaN</td>\n",
       "      <td>0</td>\n",
       "      <td>0</td>\n",
       "      <td>0</td>\n",
       "      <td>...</td>\n",
       "      <td>0</td>\n",
       "      <td>0</td>\n",
       "      <td>0</td>\n",
       "      <td>0</td>\n",
       "      <td>0</td>\n",
       "      <td>0</td>\n",
       "      <td>0</td>\n",
       "      <td>0</td>\n",
       "      <td>0</td>\n",
       "      <td>0</td>\n",
       "    </tr>\n",
       "    <tr>\n",
       "      <th>8</th>\n",
       "      <td>5.1</td>\n",
       "      <td>4.5</td>\n",
       "      <td>0</td>\n",
       "      <td>0</td>\n",
       "      <td>1</td>\n",
       "      <td>0</td>\n",
       "      <td>NaN</td>\n",
       "      <td>0</td>\n",
       "      <td>0</td>\n",
       "      <td>0</td>\n",
       "      <td>...</td>\n",
       "      <td>0</td>\n",
       "      <td>0</td>\n",
       "      <td>0</td>\n",
       "      <td>0</td>\n",
       "      <td>0</td>\n",
       "      <td>0</td>\n",
       "      <td>0</td>\n",
       "      <td>0</td>\n",
       "      <td>0</td>\n",
       "      <td>0</td>\n",
       "    </tr>\n",
       "    <tr>\n",
       "      <th>...</th>\n",
       "      <td>...</td>\n",
       "      <td>...</td>\n",
       "      <td>...</td>\n",
       "      <td>...</td>\n",
       "      <td>...</td>\n",
       "      <td>...</td>\n",
       "      <td>...</td>\n",
       "      <td>...</td>\n",
       "      <td>...</td>\n",
       "      <td>...</td>\n",
       "      <td>...</td>\n",
       "      <td>...</td>\n",
       "      <td>...</td>\n",
       "      <td>...</td>\n",
       "      <td>...</td>\n",
       "      <td>...</td>\n",
       "      <td>...</td>\n",
       "      <td>...</td>\n",
       "      <td>...</td>\n",
       "      <td>...</td>\n",
       "      <td>...</td>\n",
       "    </tr>\n",
       "    <tr>\n",
       "      <th>50061</th>\n",
       "      <td>11.4</td>\n",
       "      <td>10.0</td>\n",
       "      <td>0</td>\n",
       "      <td>0</td>\n",
       "      <td>1</td>\n",
       "      <td>0</td>\n",
       "      <td>NaN</td>\n",
       "      <td>0</td>\n",
       "      <td>0</td>\n",
       "      <td>0</td>\n",
       "      <td>...</td>\n",
       "      <td>0</td>\n",
       "      <td>0</td>\n",
       "      <td>0</td>\n",
       "      <td>0</td>\n",
       "      <td>0</td>\n",
       "      <td>0</td>\n",
       "      <td>0</td>\n",
       "      <td>0</td>\n",
       "      <td>0</td>\n",
       "      <td>0</td>\n",
       "    </tr>\n",
       "    <tr>\n",
       "      <th>50063</th>\n",
       "      <td>11.4</td>\n",
       "      <td>10.0</td>\n",
       "      <td>0</td>\n",
       "      <td>0</td>\n",
       "      <td>1</td>\n",
       "      <td>0</td>\n",
       "      <td>NaN</td>\n",
       "      <td>0</td>\n",
       "      <td>0</td>\n",
       "      <td>0</td>\n",
       "      <td>...</td>\n",
       "      <td>0</td>\n",
       "      <td>1</td>\n",
       "      <td>0</td>\n",
       "      <td>0</td>\n",
       "      <td>0</td>\n",
       "      <td>0</td>\n",
       "      <td>0</td>\n",
       "      <td>0</td>\n",
       "      <td>0</td>\n",
       "      <td>0</td>\n",
       "    </tr>\n",
       "    <tr>\n",
       "      <th>50065</th>\n",
       "      <td>11.4</td>\n",
       "      <td>10.0</td>\n",
       "      <td>0</td>\n",
       "      <td>0</td>\n",
       "      <td>1</td>\n",
       "      <td>0</td>\n",
       "      <td>NaN</td>\n",
       "      <td>0</td>\n",
       "      <td>0</td>\n",
       "      <td>0</td>\n",
       "      <td>...</td>\n",
       "      <td>0</td>\n",
       "      <td>0</td>\n",
       "      <td>0</td>\n",
       "      <td>0</td>\n",
       "      <td>0</td>\n",
       "      <td>0</td>\n",
       "      <td>0</td>\n",
       "      <td>0</td>\n",
       "      <td>0</td>\n",
       "      <td>0</td>\n",
       "    </tr>\n",
       "    <tr>\n",
       "      <th>50067</th>\n",
       "      <td>11.4</td>\n",
       "      <td>10.0</td>\n",
       "      <td>0</td>\n",
       "      <td>0</td>\n",
       "      <td>1</td>\n",
       "      <td>0</td>\n",
       "      <td>NaN</td>\n",
       "      <td>0</td>\n",
       "      <td>0</td>\n",
       "      <td>0</td>\n",
       "      <td>...</td>\n",
       "      <td>0</td>\n",
       "      <td>0</td>\n",
       "      <td>0</td>\n",
       "      <td>1</td>\n",
       "      <td>0</td>\n",
       "      <td>0</td>\n",
       "      <td>0</td>\n",
       "      <td>0</td>\n",
       "      <td>0</td>\n",
       "      <td>0</td>\n",
       "    </tr>\n",
       "    <tr>\n",
       "      <th>50069</th>\n",
       "      <td>11.4</td>\n",
       "      <td>10.0</td>\n",
       "      <td>0</td>\n",
       "      <td>0</td>\n",
       "      <td>1</td>\n",
       "      <td>0</td>\n",
       "      <td>NaN</td>\n",
       "      <td>0</td>\n",
       "      <td>0</td>\n",
       "      <td>0</td>\n",
       "      <td>...</td>\n",
       "      <td>0</td>\n",
       "      <td>0</td>\n",
       "      <td>0</td>\n",
       "      <td>0</td>\n",
       "      <td>0</td>\n",
       "      <td>0</td>\n",
       "      <td>0</td>\n",
       "      <td>0</td>\n",
       "      <td>0</td>\n",
       "      <td>0</td>\n",
       "    </tr>\n",
       "  </tbody>\n",
       "</table>\n",
       "<p>28784 rows × 36 columns</p>\n",
       "</div>"
      ],
      "text/plain": [
       "       windspeed  visibility  evening  middle_day  night  count_B  ru_server  \\\n",
       "0            6.6         6.2        1           0      0        0        NaN   \n",
       "2            6.6         6.2        1           0      0        0        NaN   \n",
       "4            5.1         4.5        0           0      1        0        NaN   \n",
       "6            5.1         4.5        0           0      1        0        NaN   \n",
       "8            5.1         4.5        0           0      1        0        NaN   \n",
       "...          ...         ...      ...         ...    ...      ...        ...   \n",
       "50061       11.4        10.0        0           0      1        0        NaN   \n",
       "50063       11.4        10.0        0           0      1        0        NaN   \n",
       "50065       11.4        10.0        0           0      1        0        NaN   \n",
       "50067       11.4        10.0        0           0      1        0        NaN   \n",
       "50069       11.4        10.0        0           0      1        0        NaN   \n",
       "\n",
       "       count_C  1  2  ...  21  22  23  24  25  26  27  28  30  Weekday  \n",
       "0            0  0  0  ...   0   0   0   0   0   0   0   0   0        0  \n",
       "2            0  0  0  ...   0   0   0   0   0   0   0   0   0        0  \n",
       "4            0  0  0  ...   0   0   0   0   0   0   0   0   0        0  \n",
       "6            0  0  0  ...   0   0   0   0   0   0   0   0   0        0  \n",
       "8            0  0  0  ...   0   0   0   0   0   0   0   0   0        0  \n",
       "...        ... .. ..  ...  ..  ..  ..  ..  ..  ..  ..  ..  ..      ...  \n",
       "50061        0  0  0  ...   0   0   0   0   0   0   0   0   0        0  \n",
       "50063        0  0  0  ...   0   1   0   0   0   0   0   0   0        0  \n",
       "50065        0  0  0  ...   0   0   0   0   0   0   0   0   0        0  \n",
       "50067        0  0  0  ...   0   0   0   1   0   0   0   0   0        0  \n",
       "50069        0  0  0  ...   0   0   0   0   0   0   0   0   0        0  \n",
       "\n",
       "[28784 rows x 36 columns]"
      ]
     },
     "execution_count": 439,
     "metadata": {},
     "output_type": "execute_result"
    }
   ],
   "source": [
    "X = df.drop(columns=['flight_count']).iloc[:, 4:]\n",
    "y = df.iloc[:, 2]\n",
    "X "
   ]
  },
  {
   "cell_type": "code",
   "execution_count": 442,
   "id": "1619474a",
   "metadata": {},
   "outputs": [],
   "source": [
    "X = X.fillna(0)"
   ]
  },
  {
   "cell_type": "code",
   "execution_count": 444,
   "id": "08b7bc47",
   "metadata": {},
   "outputs": [
    {
     "data": {
      "text/plain": [
       "0.46933314064664156"
      ]
     },
     "execution_count": 444,
     "metadata": {},
     "output_type": "execute_result"
    }
   ],
   "source": [
    "\n",
    "from sklearn.linear_model import LinearRegression\n",
    "reg = LinearRegression().fit(X, y)\n",
    "reg.score(X, y)"
   ]
  },
  {
   "cell_type": "code",
   "execution_count": 469,
   "id": "521d44ff",
   "metadata": {},
   "outputs": [],
   "source": [
    "pd.Series(abs(reg.predict(X))).to_excel('6_predict.xlsx')"
   ]
  },
  {
   "cell_type": "code",
   "execution_count": 464,
   "id": "adc92fdb",
   "metadata": {},
   "outputs": [],
   "source": [
    "len_plot = len(X.columns[8:-1])"
   ]
  },
  {
   "cell_type": "code",
   "execution_count": 463,
   "id": "47b691bb",
   "metadata": {},
   "outputs": [],
   "source": [
    "len_data = len(pd.date_range(start = min_data,end= max_data, freq = '30min'))"
   ]
  },
  {
   "cell_type": "code",
   "execution_count": 467,
   "id": "83b3481e",
   "metadata": {},
   "outputs": [
    {
     "data": {
      "text/plain": [
       "array([13600.51312256,  9942.26153564,  3801.42224121, ...,\n",
       "        5640.41638184,   960.49749756,  1706.89758301])"
      ]
     },
     "execution_count": 467,
     "metadata": {},
     "output_type": "execute_result"
    }
   ],
   "source": []
  },
  {
   "cell_type": "code",
   "execution_count": null,
   "id": "e54b3637",
   "metadata": {},
   "outputs": [],
   "source": []
  }
 ],
 "metadata": {
  "kernelspec": {
   "display_name": "Python 3 (ipykernel)",
   "language": "python",
   "name": "python3"
  },
  "language_info": {
   "codemirror_mode": {
    "name": "ipython",
    "version": 3
   },
   "file_extension": ".py",
   "mimetype": "text/x-python",
   "name": "python",
   "nbconvert_exporter": "python",
   "pygments_lexer": "ipython3",
   "version": "3.9.7"
  }
 },
 "nbformat": 4,
 "nbformat_minor": 5
}
